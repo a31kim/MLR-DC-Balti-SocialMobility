{
  "nbformat": 4,
  "nbformat_minor": 0,
  "metadata": {
    "colab": {
      "name": "Business Analytics Final",
      "provenance": [],
      "collapsed_sections": [],
      "include_colab_link": true
    },
    "kernelspec": {
      "name": "python3",
      "display_name": "Python 3"
    }
  },
  "cells": [
    {
      "cell_type": "markdown",
      "metadata": {
        "id": "view-in-github",
        "colab_type": "text"
      },
      "source": [
        "<a href=\"https://colab.research.google.com/github/a31kim/MLR-DC-Balti-SocialMobility/blob/main/BA_finalproject_12-16.ipynb\" target=\"_parent\"><img src=\"https://colab.research.google.com/assets/colab-badge.svg\" alt=\"Open In Colab\"/></a>"
      ]
    },
    {
      "cell_type": "markdown",
      "metadata": {
        "id": "fs_enTgAPTOx"
      },
      "source": [
        "# Comparing Baltimore and Washington DC Social Mobility"
      ]
    },
    {
      "cell_type": "markdown",
      "metadata": {
        "id": "R1a_pgnDPl9X"
      },
      "source": [
        "## Using 4 different datasets\n",
        "* Average Income in Baltimore\n",
        "* Average Income in DC\n",
        "* % Staying in Same Tract as Adults Baltimore\n",
        "* % Staying in Same Tract as Adults DC\n",
        "* Household Income of People who Stayed in the Same Commuting Zone in Baltimore\n",
        "* Household Income of People who Stayed in the Same Commuting Zone in DC\n"
      ]
    },
    {
      "cell_type": "markdown",
      "metadata": {
        "id": "gDsmcjfUQDBP"
      },
      "source": [
        "## Importing Libraries"
      ]
    },
    {
      "cell_type": "code",
      "metadata": {
        "id": "qHtup2i2QAaK"
      },
      "source": [
        "# import libraries\n",
        "\n",
        "# for data analysis\n",
        "import pandas as pd\n",
        "import numpy as np\n",
        "\n",
        "# to help export files\n",
        "from google.colab import files\n",
        "\n",
        "# for visualizations\n",
        "import plotly.express as px"
      ],
      "execution_count": null,
      "outputs": []
    },
    {
      "cell_type": "code",
      "metadata": {
        "colab": {
          "base_uri": "https://localhost:8080/"
        },
        "id": "xCRlkyL0dDJA",
        "outputId": "20d803a2-880e-4881-a779-30d80ca88bf9"
      },
      "source": [
        "pip install plotly"
      ],
      "execution_count": null,
      "outputs": [
        {
          "output_type": "stream",
          "text": [
            "Requirement already satisfied: plotly in /usr/local/lib/python3.6/dist-packages (4.4.1)\n",
            "Requirement already satisfied: retrying>=1.3.3 in /usr/local/lib/python3.6/dist-packages (from plotly) (1.3.3)\n",
            "Requirement already satisfied: six in /usr/local/lib/python3.6/dist-packages (from plotly) (1.15.0)\n"
          ],
          "name": "stdout"
        }
      ]
    },
    {
      "cell_type": "code",
      "metadata": {
        "colab": {
          "base_uri": "https://localhost:8080/"
        },
        "id": "_yrwGtDXeLSv",
        "outputId": "93f11041-ea7f-4f77-a524-bd0da63f2440"
      },
      "source": [
        "pip install pandas"
      ],
      "execution_count": null,
      "outputs": [
        {
          "output_type": "stream",
          "text": [
            "Requirement already satisfied: pandas in /usr/local/lib/python3.6/dist-packages (1.1.5)\n",
            "Requirement already satisfied: python-dateutil>=2.7.3 in /usr/local/lib/python3.6/dist-packages (from pandas) (2.8.1)\n",
            "Requirement already satisfied: pytz>=2017.2 in /usr/local/lib/python3.6/dist-packages (from pandas) (2018.9)\n",
            "Requirement already satisfied: numpy>=1.15.4 in /usr/local/lib/python3.6/dist-packages (from pandas) (1.18.5)\n",
            "Requirement already satisfied: six>=1.5 in /usr/local/lib/python3.6/dist-packages (from python-dateutil>=2.7.3->pandas) (1.15.0)\n"
          ],
          "name": "stdout"
        }
      ]
    },
    {
      "cell_type": "markdown",
      "metadata": {
        "id": "OKJ-NGt4QSyk"
      },
      "source": [
        "## Import data"
      ]
    },
    {
      "cell_type": "code",
      "metadata": {
        "id": "kpY0AASWhvN6"
      },
      "source": [
        "# Import data\n",
        "\n",
        "#Average Income Baltimore\n",
        "df_AvgIncomeBaltimore = pd.read_csv(\"https://raw.githubusercontent.com/AdamShmanske/Analyzing-Social-Mobility-in-Baltimore-and-Washington-DC/main/Household%20Income%20Baltimore.csv\")\n",
        "\n",
        "#Average Income DC\n",
        "df_AvgIncomeDC = pd.read_csv(\"https://raw.githubusercontent.com/AdamShmanske/Analyzing-Social-Mobility-in-Baltimore-and-Washington-DC/main/Household%20Income%20DC.csv\")\n",
        "\n",
        "#%Staying in Same Tract as Adults Baltimore\n",
        "df_StayBaltimore = pd.read_csv(\"https://raw.githubusercontent.com/AdamShmanske/Analyzing-Social-Mobility-in-Baltimore-and-Washington-DC/main/%25%20Same%20Tract%20Baltimore.csv\")\n",
        "\n",
        "#%Staying in Same Tract as Adults DC\n",
        "df_StayDC = pd.read_csv(\"https://raw.githubusercontent.com/AdamShmanske/Analyzing-Social-Mobility-in-Baltimore-and-Washington-DC/main/%25%20Same%20Tract%20DC.csv\")\n",
        "\n",
        "#Average Household Income for people who stayed in the same commuting zone in Baltimore\n",
        "df_IncomeStayBaltimore = pd.read_csv(\"https://raw.githubusercontent.com/AdamShmanske/Analyzing-Social-Mobility-in-Baltimore-and-Washington-DC/main/income%20stay%20Baltimore.csv\")\n",
        "\n",
        "#Average Household Income for people who stayed in the same commuting zone in DC\n",
        "df_IncomeStayDC = pd.read_csv(\"https://raw.githubusercontent.com/AdamShmanske/Analyzing-Social-Mobility-in-Baltimore-and-Washington-DC/main/income%20stay%20DC.csv\")"
      ],
      "execution_count": null,
      "outputs": []
    },
    {
      "cell_type": "markdown",
      "metadata": {
        "id": "MMpsMOi6nGvc"
      },
      "source": [
        "## Preview Data"
      ]
    },
    {
      "cell_type": "code",
      "metadata": {
        "id": "ZuOfLrLFhv4d",
        "colab": {
          "base_uri": "https://localhost:8080/",
          "height": 204
        },
        "outputId": "35eea2e8-4d9f-44c2-94eb-3bb2908dcc57"
      },
      "source": [
        "df_AvgIncomeBaltimore.head()"
      ],
      "execution_count": null,
      "outputs": [
        {
          "output_type": "execute_result",
          "data": {
            "text/html": [
              "<div>\n",
              "<style scoped>\n",
              "    .dataframe tbody tr th:only-of-type {\n",
              "        vertical-align: middle;\n",
              "    }\n",
              "\n",
              "    .dataframe tbody tr th {\n",
              "        vertical-align: top;\n",
              "    }\n",
              "\n",
              "    .dataframe thead th {\n",
              "        text-align: right;\n",
              "    }\n",
              "</style>\n",
              "<table border=\"1\" class=\"dataframe\">\n",
              "  <thead>\n",
              "    <tr style=\"text-align: right;\">\n",
              "      <th></th>\n",
              "      <th>tract</th>\n",
              "      <th>Name</th>\n",
              "      <th>Household_Income_rP_gP_pall</th>\n",
              "    </tr>\n",
              "  </thead>\n",
              "  <tbody>\n",
              "    <tr>\n",
              "      <th>0</th>\n",
              "      <td>24005403802</td>\n",
              "      <td>Pikesville, MD</td>\n",
              "      <td>90719.0</td>\n",
              "    </tr>\n",
              "    <tr>\n",
              "      <th>1</th>\n",
              "      <td>24005403803</td>\n",
              "      <td>Pikesville, MD</td>\n",
              "      <td>85716.0</td>\n",
              "    </tr>\n",
              "    <tr>\n",
              "      <th>2</th>\n",
              "      <td>24005490701</td>\n",
              "      <td>Towson, MD</td>\n",
              "      <td>79814.0</td>\n",
              "    </tr>\n",
              "    <tr>\n",
              "      <th>3</th>\n",
              "      <td>24005490500</td>\n",
              "      <td>Towson, MD</td>\n",
              "      <td>77836.0</td>\n",
              "    </tr>\n",
              "    <tr>\n",
              "      <th>4</th>\n",
              "      <td>24005490400</td>\n",
              "      <td>Towson, MD</td>\n",
              "      <td>76317.0</td>\n",
              "    </tr>\n",
              "  </tbody>\n",
              "</table>\n",
              "</div>"
            ],
            "text/plain": [
              "         tract            Name  Household_Income_rP_gP_pall\n",
              "0  24005403802  Pikesville, MD                      90719.0\n",
              "1  24005403803  Pikesville, MD                      85716.0\n",
              "2  24005490701      Towson, MD                      79814.0\n",
              "3  24005490500      Towson, MD                      77836.0\n",
              "4  24005490400      Towson, MD                      76317.0"
            ]
          },
          "metadata": {
            "tags": []
          },
          "execution_count": 123
        }
      ]
    },
    {
      "cell_type": "code",
      "metadata": {
        "id": "8MUHHmgkmhYz",
        "colab": {
          "base_uri": "https://localhost:8080/",
          "height": 204
        },
        "outputId": "1979bb76-8dca-42ae-aa33-55042c1ba410"
      },
      "source": [
        "df_AvgIncomeDC.head()"
      ],
      "execution_count": null,
      "outputs": [
        {
          "output_type": "execute_result",
          "data": {
            "text/html": [
              "<div>\n",
              "<style scoped>\n",
              "    .dataframe tbody tr th:only-of-type {\n",
              "        vertical-align: middle;\n",
              "    }\n",
              "\n",
              "    .dataframe tbody tr th {\n",
              "        vertical-align: top;\n",
              "    }\n",
              "\n",
              "    .dataframe thead th {\n",
              "        text-align: right;\n",
              "    }\n",
              "</style>\n",
              "<table border=\"1\" class=\"dataframe\">\n",
              "  <thead>\n",
              "    <tr style=\"text-align: right;\">\n",
              "      <th></th>\n",
              "      <th>tract</th>\n",
              "      <th>Name</th>\n",
              "      <th>Household_Income_rP_gP_pall</th>\n",
              "    </tr>\n",
              "  </thead>\n",
              "  <tbody>\n",
              "    <tr>\n",
              "      <th>0</th>\n",
              "      <td>24031705300</td>\n",
              "      <td>Chevy Chase, MD</td>\n",
              "      <td>84705.0</td>\n",
              "    </tr>\n",
              "    <tr>\n",
              "      <th>1</th>\n",
              "      <td>11001000901</td>\n",
              "      <td>Northwest Washington, Washington, DC</td>\n",
              "      <td>83482.0</td>\n",
              "    </tr>\n",
              "    <tr>\n",
              "      <th>2</th>\n",
              "      <td>51059470100</td>\n",
              "      <td>McLean, VA</td>\n",
              "      <td>82599.0</td>\n",
              "    </tr>\n",
              "    <tr>\n",
              "      <th>3</th>\n",
              "      <td>51059480201</td>\n",
              "      <td>McLean, VA</td>\n",
              "      <td>82361.0</td>\n",
              "    </tr>\n",
              "    <tr>\n",
              "      <th>4</th>\n",
              "      <td>51059480100</td>\n",
              "      <td>Great Falls, VA</td>\n",
              "      <td>81865.0</td>\n",
              "    </tr>\n",
              "  </tbody>\n",
              "</table>\n",
              "</div>"
            ],
            "text/plain": [
              "         tract  ... Household_Income_rP_gP_pall\n",
              "0  24031705300  ...                     84705.0\n",
              "1  11001000901  ...                     83482.0\n",
              "2  51059470100  ...                     82599.0\n",
              "3  51059480201  ...                     82361.0\n",
              "4  51059480100  ...                     81865.0\n",
              "\n",
              "[5 rows x 3 columns]"
            ]
          },
          "metadata": {
            "tags": []
          },
          "execution_count": 124
        }
      ]
    },
    {
      "cell_type": "code",
      "metadata": {
        "id": "Gy87NgVunVXO",
        "colab": {
          "base_uri": "https://localhost:8080/",
          "height": 204
        },
        "outputId": "247f931d-3702-4c0b-efc7-1c04dc60a4e4"
      },
      "source": [
        "df_StayBaltimore.head()"
      ],
      "execution_count": null,
      "outputs": [
        {
          "output_type": "execute_result",
          "data": {
            "text/html": [
              "<div>\n",
              "<style scoped>\n",
              "    .dataframe tbody tr th:only-of-type {\n",
              "        vertical-align: middle;\n",
              "    }\n",
              "\n",
              "    .dataframe tbody tr th {\n",
              "        vertical-align: top;\n",
              "    }\n",
              "\n",
              "    .dataframe thead th {\n",
              "        text-align: right;\n",
              "    }\n",
              "</style>\n",
              "<table border=\"1\" class=\"dataframe\">\n",
              "  <thead>\n",
              "    <tr style=\"text-align: right;\">\n",
              "      <th></th>\n",
              "      <th>tract</th>\n",
              "      <th>Name</th>\n",
              "      <th>%_Staying_in_Same_Tract_as_Adults_rP_gP_pall</th>\n",
              "    </tr>\n",
              "  </thead>\n",
              "  <tbody>\n",
              "    <tr>\n",
              "      <th>0</th>\n",
              "      <td>24510260401</td>\n",
              "      <td>Armistead Gardens, Baltimore, MD</td>\n",
              "      <td>0.3593</td>\n",
              "    </tr>\n",
              "    <tr>\n",
              "      <th>1</th>\n",
              "      <td>24003750203</td>\n",
              "      <td>Baltimore, MD</td>\n",
              "      <td>0.3340</td>\n",
              "    </tr>\n",
              "    <tr>\n",
              "      <th>2</th>\n",
              "      <td>24005452000</td>\n",
              "      <td>Sparrows Point, MD</td>\n",
              "      <td>0.3212</td>\n",
              "    </tr>\n",
              "    <tr>\n",
              "      <th>3</th>\n",
              "      <td>24005450100</td>\n",
              "      <td>Rosedale, MD</td>\n",
              "      <td>0.3187</td>\n",
              "    </tr>\n",
              "    <tr>\n",
              "      <th>4</th>\n",
              "      <td>24005430200</td>\n",
              "      <td>Lansdowne - Baltimore Highlands, Lansdowne, MD</td>\n",
              "      <td>0.3183</td>\n",
              "    </tr>\n",
              "  </tbody>\n",
              "</table>\n",
              "</div>"
            ],
            "text/plain": [
              "         tract  ... %_Staying_in_Same_Tract_as_Adults_rP_gP_pall\n",
              "0  24510260401  ...                                       0.3593\n",
              "1  24003750203  ...                                       0.3340\n",
              "2  24005452000  ...                                       0.3212\n",
              "3  24005450100  ...                                       0.3187\n",
              "4  24005430200  ...                                       0.3183\n",
              "\n",
              "[5 rows x 3 columns]"
            ]
          },
          "metadata": {
            "tags": []
          },
          "execution_count": 125
        }
      ]
    },
    {
      "cell_type": "code",
      "metadata": {
        "id": "oenTVTfRnXlM",
        "colab": {
          "base_uri": "https://localhost:8080/",
          "height": 204
        },
        "outputId": "9a0ef5fe-bf1c-4dd6-8ee2-9b0894a9d33a"
      },
      "source": [
        "df_StayDC.head()"
      ],
      "execution_count": null,
      "outputs": [
        {
          "output_type": "execute_result",
          "data": {
            "text/html": [
              "<div>\n",
              "<style scoped>\n",
              "    .dataframe tbody tr th:only-of-type {\n",
              "        vertical-align: middle;\n",
              "    }\n",
              "\n",
              "    .dataframe tbody tr th {\n",
              "        vertical-align: top;\n",
              "    }\n",
              "\n",
              "    .dataframe thead th {\n",
              "        text-align: right;\n",
              "    }\n",
              "</style>\n",
              "<table border=\"1\" class=\"dataframe\">\n",
              "  <thead>\n",
              "    <tr style=\"text-align: right;\">\n",
              "      <th></th>\n",
              "      <th>tract</th>\n",
              "      <th>Name</th>\n",
              "      <th>%_Staying_in_Same_Tract_as_Adults_rP_gP_pall</th>\n",
              "    </tr>\n",
              "  </thead>\n",
              "  <tbody>\n",
              "    <tr>\n",
              "      <th>0</th>\n",
              "      <td>11001004702</td>\n",
              "      <td>Northwest Washington, Washington, DC</td>\n",
              "      <td>0.3761</td>\n",
              "    </tr>\n",
              "    <tr>\n",
              "      <th>1</th>\n",
              "      <td>11001009509</td>\n",
              "      <td>Michigan Park, Washington, DC</td>\n",
              "      <td>0.3534</td>\n",
              "    </tr>\n",
              "    <tr>\n",
              "      <th>2</th>\n",
              "      <td>11001009507</td>\n",
              "      <td>Northeast Washington, Washington, DC</td>\n",
              "      <td>0.3442</td>\n",
              "    </tr>\n",
              "    <tr>\n",
              "      <th>3</th>\n",
              "      <td>11001009000</td>\n",
              "      <td>Fort Lincoln, Washington, DC</td>\n",
              "      <td>0.3421</td>\n",
              "    </tr>\n",
              "    <tr>\n",
              "      <th>4</th>\n",
              "      <td>11001007806</td>\n",
              "      <td>Northeast Washington, Washington, DC</td>\n",
              "      <td>0.3350</td>\n",
              "    </tr>\n",
              "  </tbody>\n",
              "</table>\n",
              "</div>"
            ],
            "text/plain": [
              "         tract  ... %_Staying_in_Same_Tract_as_Adults_rP_gP_pall\n",
              "0  11001004702  ...                                       0.3761\n",
              "1  11001009509  ...                                       0.3534\n",
              "2  11001009507  ...                                       0.3442\n",
              "3  11001009000  ...                                       0.3421\n",
              "4  11001007806  ...                                       0.3350\n",
              "\n",
              "[5 rows x 3 columns]"
            ]
          },
          "metadata": {
            "tags": []
          },
          "execution_count": 126
        }
      ]
    },
    {
      "cell_type": "code",
      "metadata": {
        "colab": {
          "base_uri": "https://localhost:8080/",
          "height": 204
        },
        "id": "4usIcQcm7Odz",
        "outputId": "74877451-a93c-4162-f411-8d558a4853d4"
      },
      "source": [
        "df_IncomeStayBaltimore.head()"
      ],
      "execution_count": null,
      "outputs": [
        {
          "output_type": "execute_result",
          "data": {
            "text/html": [
              "<div>\n",
              "<style scoped>\n",
              "    .dataframe tbody tr th:only-of-type {\n",
              "        vertical-align: middle;\n",
              "    }\n",
              "\n",
              "    .dataframe tbody tr th {\n",
              "        vertical-align: top;\n",
              "    }\n",
              "\n",
              "    .dataframe thead th {\n",
              "        text-align: right;\n",
              "    }\n",
              "</style>\n",
              "<table border=\"1\" class=\"dataframe\">\n",
              "  <thead>\n",
              "    <tr style=\"text-align: right;\">\n",
              "      <th></th>\n",
              "      <th>tract</th>\n",
              "      <th>Name</th>\n",
              "      <th>Household_Income_Stayed_in_Commuting_Zone_rP_gP_pall</th>\n",
              "    </tr>\n",
              "  </thead>\n",
              "  <tbody>\n",
              "    <tr>\n",
              "      <th>0</th>\n",
              "      <td>24005403802</td>\n",
              "      <td>Pikesville, MD</td>\n",
              "      <td>77785.0</td>\n",
              "    </tr>\n",
              "    <tr>\n",
              "      <th>1</th>\n",
              "      <td>24005403803</td>\n",
              "      <td>Pikesville, MD</td>\n",
              "      <td>76622.0</td>\n",
              "    </tr>\n",
              "    <tr>\n",
              "      <th>2</th>\n",
              "      <td>24005490701</td>\n",
              "      <td>Towson, MD</td>\n",
              "      <td>75205.0</td>\n",
              "    </tr>\n",
              "    <tr>\n",
              "      <th>3</th>\n",
              "      <td>24005403601</td>\n",
              "      <td>Baltimore, MD</td>\n",
              "      <td>68109.0</td>\n",
              "    </tr>\n",
              "    <tr>\n",
              "      <th>4</th>\n",
              "      <td>24005490500</td>\n",
              "      <td>Towson, MD</td>\n",
              "      <td>66340.0</td>\n",
              "    </tr>\n",
              "  </tbody>\n",
              "</table>\n",
              "</div>"
            ],
            "text/plain": [
              "         tract  ... Household_Income_Stayed_in_Commuting_Zone_rP_gP_pall\n",
              "0  24005403802  ...                                            77785.0  \n",
              "1  24005403803  ...                                            76622.0  \n",
              "2  24005490701  ...                                            75205.0  \n",
              "3  24005403601  ...                                            68109.0  \n",
              "4  24005490500  ...                                            66340.0  \n",
              "\n",
              "[5 rows x 3 columns]"
            ]
          },
          "metadata": {
            "tags": []
          },
          "execution_count": 127
        }
      ]
    },
    {
      "cell_type": "code",
      "metadata": {
        "colab": {
          "base_uri": "https://localhost:8080/",
          "height": 204
        },
        "id": "8ifJRj0A7Rli",
        "outputId": "49da16bc-e108-40cc-ff1d-d44bdbbbb81f"
      },
      "source": [
        "df_IncomeStayDC.head()"
      ],
      "execution_count": null,
      "outputs": [
        {
          "output_type": "execute_result",
          "data": {
            "text/html": [
              "<div>\n",
              "<style scoped>\n",
              "    .dataframe tbody tr th:only-of-type {\n",
              "        vertical-align: middle;\n",
              "    }\n",
              "\n",
              "    .dataframe tbody tr th {\n",
              "        vertical-align: top;\n",
              "    }\n",
              "\n",
              "    .dataframe thead th {\n",
              "        text-align: right;\n",
              "    }\n",
              "</style>\n",
              "<table border=\"1\" class=\"dataframe\">\n",
              "  <thead>\n",
              "    <tr style=\"text-align: right;\">\n",
              "      <th></th>\n",
              "      <th>tract</th>\n",
              "      <th>Name</th>\n",
              "      <th>Household_Income_Stayed_in_Commuting_Zone_rP_gP_pall</th>\n",
              "    </tr>\n",
              "  </thead>\n",
              "  <tbody>\n",
              "    <tr>\n",
              "      <th>0</th>\n",
              "      <td>51059480100</td>\n",
              "      <td>Great Falls, VA</td>\n",
              "      <td>83246.0</td>\n",
              "    </tr>\n",
              "    <tr>\n",
              "      <th>1</th>\n",
              "      <td>51059470100</td>\n",
              "      <td>McLean, VA</td>\n",
              "      <td>79881.0</td>\n",
              "    </tr>\n",
              "    <tr>\n",
              "      <th>2</th>\n",
              "      <td>24031706013</td>\n",
              "      <td>Bethesda, MD</td>\n",
              "      <td>78973.0</td>\n",
              "    </tr>\n",
              "    <tr>\n",
              "      <th>3</th>\n",
              "      <td>51059480201</td>\n",
              "      <td>McLean, VA</td>\n",
              "      <td>78832.0</td>\n",
              "    </tr>\n",
              "    <tr>\n",
              "      <th>4</th>\n",
              "      <td>51510202001</td>\n",
              "      <td>Old Town, Alexandria, VA</td>\n",
              "      <td>78654.0</td>\n",
              "    </tr>\n",
              "  </tbody>\n",
              "</table>\n",
              "</div>"
            ],
            "text/plain": [
              "         tract  ... Household_Income_Stayed_in_Commuting_Zone_rP_gP_pall\n",
              "0  51059480100  ...                                            83246.0  \n",
              "1  51059470100  ...                                            79881.0  \n",
              "2  24031706013  ...                                            78973.0  \n",
              "3  51059480201  ...                                            78832.0  \n",
              "4  51510202001  ...                                            78654.0  \n",
              "\n",
              "[5 rows x 3 columns]"
            ]
          },
          "metadata": {
            "tags": []
          },
          "execution_count": 128
        }
      ]
    },
    {
      "cell_type": "markdown",
      "metadata": {
        "id": "yk8GEecdnpnd"
      },
      "source": [
        "## Filter Data to only datapoints containing \"Baltimore\" and \"Washington, DC\""
      ]
    },
    {
      "cell_type": "code",
      "metadata": {
        "id": "SlHRtmhwnnWW"
      },
      "source": [
        "#Baltimore Income Cleaning\n",
        "df_AvgIncomeBaltimore = df_AvgIncomeBaltimore[df_AvgIncomeBaltimore[\"Name\"].str.contains(\"Baltimore\")]"
      ],
      "execution_count": null,
      "outputs": []
    },
    {
      "cell_type": "code",
      "metadata": {
        "id": "D0Ock0v6pGI0",
        "colab": {
          "base_uri": "https://localhost:8080/",
          "height": 204
        },
        "outputId": "42e2471e-724b-425f-f081-48698234c92c"
      },
      "source": [
        "#Preview Baltimore Income Cleaned\n",
        "df_AvgIncomeBaltimore.head()"
      ],
      "execution_count": null,
      "outputs": [
        {
          "output_type": "execute_result",
          "data": {
            "text/html": [
              "<div>\n",
              "<style scoped>\n",
              "    .dataframe tbody tr th:only-of-type {\n",
              "        vertical-align: middle;\n",
              "    }\n",
              "\n",
              "    .dataframe tbody tr th {\n",
              "        vertical-align: top;\n",
              "    }\n",
              "\n",
              "    .dataframe thead th {\n",
              "        text-align: right;\n",
              "    }\n",
              "</style>\n",
              "<table border=\"1\" class=\"dataframe\">\n",
              "  <thead>\n",
              "    <tr style=\"text-align: right;\">\n",
              "      <th></th>\n",
              "      <th>tract</th>\n",
              "      <th>Name</th>\n",
              "      <th>Household_Income_rP_gP_pall</th>\n",
              "    </tr>\n",
              "  </thead>\n",
              "  <tbody>\n",
              "    <tr>\n",
              "      <th>5</th>\n",
              "      <td>24005403601</td>\n",
              "      <td>Baltimore, MD</td>\n",
              "      <td>75513.0</td>\n",
              "    </tr>\n",
              "    <tr>\n",
              "      <th>7</th>\n",
              "      <td>24510271400</td>\n",
              "      <td>Evergreen, Baltimore, MD</td>\n",
              "      <td>71859.0</td>\n",
              "    </tr>\n",
              "    <tr>\n",
              "      <th>8</th>\n",
              "      <td>24510271501</td>\n",
              "      <td>Mount Washington, Baltimore, MD</td>\n",
              "      <td>69634.0</td>\n",
              "    </tr>\n",
              "    <tr>\n",
              "      <th>10</th>\n",
              "      <td>24005491000</td>\n",
              "      <td>Baltimore, MD</td>\n",
              "      <td>68851.0</td>\n",
              "    </tr>\n",
              "    <tr>\n",
              "      <th>11</th>\n",
              "      <td>24510271300</td>\n",
              "      <td>Roland Park, Baltimore, MD</td>\n",
              "      <td>68340.0</td>\n",
              "    </tr>\n",
              "  </tbody>\n",
              "</table>\n",
              "</div>"
            ],
            "text/plain": [
              "          tract                             Name  Household_Income_rP_gP_pall\n",
              "5   24005403601                    Baltimore, MD                      75513.0\n",
              "7   24510271400         Evergreen, Baltimore, MD                      71859.0\n",
              "8   24510271501  Mount Washington, Baltimore, MD                      69634.0\n",
              "10  24005491000                    Baltimore, MD                      68851.0\n",
              "11  24510271300       Roland Park, Baltimore, MD                      68340.0"
            ]
          },
          "metadata": {
            "tags": []
          },
          "execution_count": 130
        }
      ]
    },
    {
      "cell_type": "code",
      "metadata": {
        "id": "14juRDzvpINv"
      },
      "source": [
        "# Baltimore Stay Cleaning\n",
        "df_StayBaltimore = df_StayBaltimore[df_StayBaltimore[\"Name\"].str.contains(\"Baltimore\")]\n"
      ],
      "execution_count": null,
      "outputs": []
    },
    {
      "cell_type": "code",
      "metadata": {
        "id": "8PhZPihmp3Dz",
        "colab": {
          "base_uri": "https://localhost:8080/",
          "height": 204
        },
        "outputId": "eb98aa49-76b7-428c-bb53-034169e134dc"
      },
      "source": [
        "#Preview Baltimore Stay Cleaned\n",
        "df_StayBaltimore.head()"
      ],
      "execution_count": null,
      "outputs": [
        {
          "output_type": "execute_result",
          "data": {
            "text/html": [
              "<div>\n",
              "<style scoped>\n",
              "    .dataframe tbody tr th:only-of-type {\n",
              "        vertical-align: middle;\n",
              "    }\n",
              "\n",
              "    .dataframe tbody tr th {\n",
              "        vertical-align: top;\n",
              "    }\n",
              "\n",
              "    .dataframe thead th {\n",
              "        text-align: right;\n",
              "    }\n",
              "</style>\n",
              "<table border=\"1\" class=\"dataframe\">\n",
              "  <thead>\n",
              "    <tr style=\"text-align: right;\">\n",
              "      <th></th>\n",
              "      <th>tract</th>\n",
              "      <th>Name</th>\n",
              "      <th>%_Staying_in_Same_Tract_as_Adults_rP_gP_pall</th>\n",
              "    </tr>\n",
              "  </thead>\n",
              "  <tbody>\n",
              "    <tr>\n",
              "      <th>0</th>\n",
              "      <td>24510260401</td>\n",
              "      <td>Armistead Gardens, Baltimore, MD</td>\n",
              "      <td>0.3593</td>\n",
              "    </tr>\n",
              "    <tr>\n",
              "      <th>1</th>\n",
              "      <td>24003750203</td>\n",
              "      <td>Baltimore, MD</td>\n",
              "      <td>0.3340</td>\n",
              "    </tr>\n",
              "    <tr>\n",
              "      <th>4</th>\n",
              "      <td>24005430200</td>\n",
              "      <td>Lansdowne - Baltimore Highlands, Lansdowne, MD</td>\n",
              "      <td>0.3183</td>\n",
              "    </tr>\n",
              "    <tr>\n",
              "      <th>6</th>\n",
              "      <td>24003750201</td>\n",
              "      <td>Brooklyn, Baltimore, MD</td>\n",
              "      <td>0.3042</td>\n",
              "    </tr>\n",
              "    <tr>\n",
              "      <th>9</th>\n",
              "      <td>24005452300</td>\n",
              "      <td>Baltimore, MD</td>\n",
              "      <td>0.2974</td>\n",
              "    </tr>\n",
              "  </tbody>\n",
              "</table>\n",
              "</div>"
            ],
            "text/plain": [
              "         tract  ... %_Staying_in_Same_Tract_as_Adults_rP_gP_pall\n",
              "0  24510260401  ...                                       0.3593\n",
              "1  24003750203  ...                                       0.3340\n",
              "4  24005430200  ...                                       0.3183\n",
              "6  24003750201  ...                                       0.3042\n",
              "9  24005452300  ...                                       0.2974\n",
              "\n",
              "[5 rows x 3 columns]"
            ]
          },
          "metadata": {
            "tags": []
          },
          "execution_count": 132
        }
      ]
    },
    {
      "cell_type": "code",
      "metadata": {
        "id": "tNjcDQPzp9Fs"
      },
      "source": [
        "# DC Income Cleaning\n",
        "df_AvgIncomeDC = df_AvgIncomeDC[df_AvgIncomeDC[\"Name\"].str.contains(\"Washington, DC\")]"
      ],
      "execution_count": null,
      "outputs": []
    },
    {
      "cell_type": "code",
      "metadata": {
        "id": "_GjhoBG_qnWR",
        "colab": {
          "base_uri": "https://localhost:8080/",
          "height": 204
        },
        "outputId": "70ce480d-912c-4063-c7fb-bd6ec8602e86"
      },
      "source": [
        "#Preview DC Income Cleaned\n",
        "df_AvgIncomeDC.head()"
      ],
      "execution_count": null,
      "outputs": [
        {
          "output_type": "execute_result",
          "data": {
            "text/html": [
              "<div>\n",
              "<style scoped>\n",
              "    .dataframe tbody tr th:only-of-type {\n",
              "        vertical-align: middle;\n",
              "    }\n",
              "\n",
              "    .dataframe tbody tr th {\n",
              "        vertical-align: top;\n",
              "    }\n",
              "\n",
              "    .dataframe thead th {\n",
              "        text-align: right;\n",
              "    }\n",
              "</style>\n",
              "<table border=\"1\" class=\"dataframe\">\n",
              "  <thead>\n",
              "    <tr style=\"text-align: right;\">\n",
              "      <th></th>\n",
              "      <th>tract</th>\n",
              "      <th>Name</th>\n",
              "      <th>Household_Income_rP_gP_pall</th>\n",
              "    </tr>\n",
              "  </thead>\n",
              "  <tbody>\n",
              "    <tr>\n",
              "      <th>1</th>\n",
              "      <td>11001000901</td>\n",
              "      <td>Northwest Washington, Washington, DC</td>\n",
              "      <td>83482.0</td>\n",
              "    </tr>\n",
              "    <tr>\n",
              "      <th>21</th>\n",
              "      <td>11001000801</td>\n",
              "      <td>Northwest Washington, Washington, DC</td>\n",
              "      <td>72459.0</td>\n",
              "    </tr>\n",
              "    <tr>\n",
              "      <th>28</th>\n",
              "      <td>11001001402</td>\n",
              "      <td>Northwest Washington, Washington, DC</td>\n",
              "      <td>69688.0</td>\n",
              "    </tr>\n",
              "    <tr>\n",
              "      <th>32</th>\n",
              "      <td>11001000600</td>\n",
              "      <td>Northwest Washington, Washington, DC</td>\n",
              "      <td>69095.0</td>\n",
              "    </tr>\n",
              "    <tr>\n",
              "      <th>33</th>\n",
              "      <td>11001000400</td>\n",
              "      <td>Naval Observatory, Washington, DC</td>\n",
              "      <td>69006.0</td>\n",
              "    </tr>\n",
              "  </tbody>\n",
              "</table>\n",
              "</div>"
            ],
            "text/plain": [
              "          tract  ... Household_Income_rP_gP_pall\n",
              "1   11001000901  ...                     83482.0\n",
              "21  11001000801  ...                     72459.0\n",
              "28  11001001402  ...                     69688.0\n",
              "32  11001000600  ...                     69095.0\n",
              "33  11001000400  ...                     69006.0\n",
              "\n",
              "[5 rows x 3 columns]"
            ]
          },
          "metadata": {
            "tags": []
          },
          "execution_count": 134
        }
      ]
    },
    {
      "cell_type": "code",
      "metadata": {
        "id": "WBS_K5RFqsRV"
      },
      "source": [
        "# DC Stay Cleaning\n",
        "df_StayDC = df_StayDC[df_StayDC[\"Name\"].str.contains(\"Washington, DC\")]"
      ],
      "execution_count": null,
      "outputs": []
    },
    {
      "cell_type": "code",
      "metadata": {
        "id": "i16YRDFgrQwV",
        "colab": {
          "base_uri": "https://localhost:8080/",
          "height": 204
        },
        "outputId": "5734272d-ee5e-48fc-d96a-c9bf0c965082"
      },
      "source": [
        "#Preview DC Stay Cleaned\n",
        "df_StayDC.head()"
      ],
      "execution_count": null,
      "outputs": [
        {
          "output_type": "execute_result",
          "data": {
            "text/html": [
              "<div>\n",
              "<style scoped>\n",
              "    .dataframe tbody tr th:only-of-type {\n",
              "        vertical-align: middle;\n",
              "    }\n",
              "\n",
              "    .dataframe tbody tr th {\n",
              "        vertical-align: top;\n",
              "    }\n",
              "\n",
              "    .dataframe thead th {\n",
              "        text-align: right;\n",
              "    }\n",
              "</style>\n",
              "<table border=\"1\" class=\"dataframe\">\n",
              "  <thead>\n",
              "    <tr style=\"text-align: right;\">\n",
              "      <th></th>\n",
              "      <th>tract</th>\n",
              "      <th>Name</th>\n",
              "      <th>%_Staying_in_Same_Tract_as_Adults_rP_gP_pall</th>\n",
              "    </tr>\n",
              "  </thead>\n",
              "  <tbody>\n",
              "    <tr>\n",
              "      <th>0</th>\n",
              "      <td>11001004702</td>\n",
              "      <td>Northwest Washington, Washington, DC</td>\n",
              "      <td>0.3761</td>\n",
              "    </tr>\n",
              "    <tr>\n",
              "      <th>1</th>\n",
              "      <td>11001009509</td>\n",
              "      <td>Michigan Park, Washington, DC</td>\n",
              "      <td>0.3534</td>\n",
              "    </tr>\n",
              "    <tr>\n",
              "      <th>2</th>\n",
              "      <td>11001009507</td>\n",
              "      <td>Northeast Washington, Washington, DC</td>\n",
              "      <td>0.3442</td>\n",
              "    </tr>\n",
              "    <tr>\n",
              "      <th>3</th>\n",
              "      <td>11001009000</td>\n",
              "      <td>Fort Lincoln, Washington, DC</td>\n",
              "      <td>0.3421</td>\n",
              "    </tr>\n",
              "    <tr>\n",
              "      <th>4</th>\n",
              "      <td>11001007806</td>\n",
              "      <td>Northeast Washington, Washington, DC</td>\n",
              "      <td>0.3350</td>\n",
              "    </tr>\n",
              "  </tbody>\n",
              "</table>\n",
              "</div>"
            ],
            "text/plain": [
              "         tract  ... %_Staying_in_Same_Tract_as_Adults_rP_gP_pall\n",
              "0  11001004702  ...                                       0.3761\n",
              "1  11001009509  ...                                       0.3534\n",
              "2  11001009507  ...                                       0.3442\n",
              "3  11001009000  ...                                       0.3421\n",
              "4  11001007806  ...                                       0.3350\n",
              "\n",
              "[5 rows x 3 columns]"
            ]
          },
          "metadata": {
            "tags": []
          },
          "execution_count": 136
        }
      ]
    },
    {
      "cell_type": "code",
      "metadata": {
        "id": "icNYuQon7V2z"
      },
      "source": [
        "#Income Stay Baltimore Cleaning\n",
        "df_IncomeStayBaltimore = df_IncomeStayBaltimore[df_IncomeStayBaltimore[\"Name\"].str.contains(\"Baltimore\")]"
      ],
      "execution_count": null,
      "outputs": []
    },
    {
      "cell_type": "code",
      "metadata": {
        "colab": {
          "base_uri": "https://localhost:8080/",
          "height": 204
        },
        "id": "Y2taRlYq7jiL",
        "outputId": "b2ed2bed-f2e9-403a-ca0f-ddecc97c6ba5"
      },
      "source": [
        "#Preview Income Stay Baltimore\n",
        "df_IncomeStayBaltimore.head()"
      ],
      "execution_count": null,
      "outputs": [
        {
          "output_type": "execute_result",
          "data": {
            "text/html": [
              "<div>\n",
              "<style scoped>\n",
              "    .dataframe tbody tr th:only-of-type {\n",
              "        vertical-align: middle;\n",
              "    }\n",
              "\n",
              "    .dataframe tbody tr th {\n",
              "        vertical-align: top;\n",
              "    }\n",
              "\n",
              "    .dataframe thead th {\n",
              "        text-align: right;\n",
              "    }\n",
              "</style>\n",
              "<table border=\"1\" class=\"dataframe\">\n",
              "  <thead>\n",
              "    <tr style=\"text-align: right;\">\n",
              "      <th></th>\n",
              "      <th>tract</th>\n",
              "      <th>Name</th>\n",
              "      <th>Household_Income_Stayed_in_Commuting_Zone_rP_gP_pall</th>\n",
              "    </tr>\n",
              "  </thead>\n",
              "  <tbody>\n",
              "    <tr>\n",
              "      <th>3</th>\n",
              "      <td>24005403601</td>\n",
              "      <td>Baltimore, MD</td>\n",
              "      <td>68109.0</td>\n",
              "    </tr>\n",
              "    <tr>\n",
              "      <th>10</th>\n",
              "      <td>24005491000</td>\n",
              "      <td>Baltimore, MD</td>\n",
              "      <td>64047.0</td>\n",
              "    </tr>\n",
              "    <tr>\n",
              "      <th>18</th>\n",
              "      <td>24005490603</td>\n",
              "      <td>Baltimore, MD</td>\n",
              "      <td>59609.0</td>\n",
              "    </tr>\n",
              "    <tr>\n",
              "      <th>20</th>\n",
              "      <td>24510271200</td>\n",
              "      <td>Homeland, Baltimore, MD</td>\n",
              "      <td>59192.0</td>\n",
              "    </tr>\n",
              "    <tr>\n",
              "      <th>21</th>\n",
              "      <td>24510271501</td>\n",
              "      <td>Mount Washington, Baltimore, MD</td>\n",
              "      <td>58794.0</td>\n",
              "    </tr>\n",
              "  </tbody>\n",
              "</table>\n",
              "</div>"
            ],
            "text/plain": [
              "          tract  ... Household_Income_Stayed_in_Commuting_Zone_rP_gP_pall\n",
              "3   24005403601  ...                                            68109.0  \n",
              "10  24005491000  ...                                            64047.0  \n",
              "18  24005490603  ...                                            59609.0  \n",
              "20  24510271200  ...                                            59192.0  \n",
              "21  24510271501  ...                                            58794.0  \n",
              "\n",
              "[5 rows x 3 columns]"
            ]
          },
          "metadata": {
            "tags": []
          },
          "execution_count": 138
        }
      ]
    },
    {
      "cell_type": "code",
      "metadata": {
        "id": "iC_t8JbH7oSD"
      },
      "source": [
        "#Income Stay DC Cleaning\n",
        "df_IncomeStayDC = df_IncomeStayDC[df_IncomeStayDC[\"Name\"].str.contains(\"Washington, DC\")]"
      ],
      "execution_count": null,
      "outputs": []
    },
    {
      "cell_type": "code",
      "metadata": {
        "colab": {
          "base_uri": "https://localhost:8080/",
          "height": 204
        },
        "id": "161Cu6Hw7ywG",
        "outputId": "1fb5f3a9-478c-47cc-920a-1825ac101109"
      },
      "source": [
        "#Preview Income Stay DC\n",
        "df_IncomeStayDC.head()"
      ],
      "execution_count": null,
      "outputs": [
        {
          "output_type": "execute_result",
          "data": {
            "text/html": [
              "<div>\n",
              "<style scoped>\n",
              "    .dataframe tbody tr th:only-of-type {\n",
              "        vertical-align: middle;\n",
              "    }\n",
              "\n",
              "    .dataframe tbody tr th {\n",
              "        vertical-align: top;\n",
              "    }\n",
              "\n",
              "    .dataframe thead th {\n",
              "        text-align: right;\n",
              "    }\n",
              "</style>\n",
              "<table border=\"1\" class=\"dataframe\">\n",
              "  <thead>\n",
              "    <tr style=\"text-align: right;\">\n",
              "      <th></th>\n",
              "      <th>tract</th>\n",
              "      <th>Name</th>\n",
              "      <th>Household_Income_Stayed_in_Commuting_Zone_rP_gP_pall</th>\n",
              "    </tr>\n",
              "  </thead>\n",
              "  <tbody>\n",
              "    <tr>\n",
              "      <th>11</th>\n",
              "      <td>11001000801</td>\n",
              "      <td>Northwest Washington, Washington, DC</td>\n",
              "      <td>73621.0</td>\n",
              "    </tr>\n",
              "    <tr>\n",
              "      <th>17</th>\n",
              "      <td>11001001402</td>\n",
              "      <td>Northwest Washington, Washington, DC</td>\n",
              "      <td>72380.0</td>\n",
              "    </tr>\n",
              "    <tr>\n",
              "      <th>20</th>\n",
              "      <td>11001000901</td>\n",
              "      <td>Northwest Washington, Washington, DC</td>\n",
              "      <td>71451.0</td>\n",
              "    </tr>\n",
              "    <tr>\n",
              "      <th>25</th>\n",
              "      <td>11001001401</td>\n",
              "      <td>Northwest Washington, Washington, DC</td>\n",
              "      <td>70126.0</td>\n",
              "    </tr>\n",
              "    <tr>\n",
              "      <th>37</th>\n",
              "      <td>11001006600</td>\n",
              "      <td>Capitol Hill, Washington, DC</td>\n",
              "      <td>66873.0</td>\n",
              "    </tr>\n",
              "  </tbody>\n",
              "</table>\n",
              "</div>"
            ],
            "text/plain": [
              "          tract  ... Household_Income_Stayed_in_Commuting_Zone_rP_gP_pall\n",
              "11  11001000801  ...                                            73621.0  \n",
              "17  11001001402  ...                                            72380.0  \n",
              "20  11001000901  ...                                            71451.0  \n",
              "25  11001001401  ...                                            70126.0  \n",
              "37  11001006600  ...                                            66873.0  \n",
              "\n",
              "[5 rows x 3 columns]"
            ]
          },
          "metadata": {
            "tags": []
          },
          "execution_count": 140
        }
      ]
    },
    {
      "cell_type": "markdown",
      "metadata": {
        "id": "X24acjsVra7M"
      },
      "source": [
        "## Changing Column Names for Each Dataset"
      ]
    },
    {
      "cell_type": "code",
      "metadata": {
        "id": "jvpJPi71sAf7"
      },
      "source": [
        "# Average Income Baltimore\n",
        "df_AvgIncomeBaltimore.columns\n",
        "df_AvgIncomeBaltimore = df_AvgIncomeBaltimore.rename(columns={\"Household_Income_rP_gP_pall\":\"Baltimore Median Income\"})"
      ],
      "execution_count": null,
      "outputs": []
    },
    {
      "cell_type": "code",
      "metadata": {
        "id": "YpEyd4KlsPsv",
        "colab": {
          "base_uri": "https://localhost:8080/",
          "height": 204
        },
        "outputId": "9c32cc00-5a9b-4903-fe2a-50e811bd58a6"
      },
      "source": [
        "df_AvgIncomeBaltimore.head()"
      ],
      "execution_count": null,
      "outputs": [
        {
          "output_type": "execute_result",
          "data": {
            "text/html": [
              "<div>\n",
              "<style scoped>\n",
              "    .dataframe tbody tr th:only-of-type {\n",
              "        vertical-align: middle;\n",
              "    }\n",
              "\n",
              "    .dataframe tbody tr th {\n",
              "        vertical-align: top;\n",
              "    }\n",
              "\n",
              "    .dataframe thead th {\n",
              "        text-align: right;\n",
              "    }\n",
              "</style>\n",
              "<table border=\"1\" class=\"dataframe\">\n",
              "  <thead>\n",
              "    <tr style=\"text-align: right;\">\n",
              "      <th></th>\n",
              "      <th>tract</th>\n",
              "      <th>Name</th>\n",
              "      <th>Baltimore Median Income</th>\n",
              "    </tr>\n",
              "  </thead>\n",
              "  <tbody>\n",
              "    <tr>\n",
              "      <th>5</th>\n",
              "      <td>24005403601</td>\n",
              "      <td>Baltimore, MD</td>\n",
              "      <td>75513.0</td>\n",
              "    </tr>\n",
              "    <tr>\n",
              "      <th>7</th>\n",
              "      <td>24510271400</td>\n",
              "      <td>Evergreen, Baltimore, MD</td>\n",
              "      <td>71859.0</td>\n",
              "    </tr>\n",
              "    <tr>\n",
              "      <th>8</th>\n",
              "      <td>24510271501</td>\n",
              "      <td>Mount Washington, Baltimore, MD</td>\n",
              "      <td>69634.0</td>\n",
              "    </tr>\n",
              "    <tr>\n",
              "      <th>10</th>\n",
              "      <td>24005491000</td>\n",
              "      <td>Baltimore, MD</td>\n",
              "      <td>68851.0</td>\n",
              "    </tr>\n",
              "    <tr>\n",
              "      <th>11</th>\n",
              "      <td>24510271300</td>\n",
              "      <td>Roland Park, Baltimore, MD</td>\n",
              "      <td>68340.0</td>\n",
              "    </tr>\n",
              "  </tbody>\n",
              "</table>\n",
              "</div>"
            ],
            "text/plain": [
              "          tract                             Name  Baltimore Median Income\n",
              "5   24005403601                    Baltimore, MD                  75513.0\n",
              "7   24510271400         Evergreen, Baltimore, MD                  71859.0\n",
              "8   24510271501  Mount Washington, Baltimore, MD                  69634.0\n",
              "10  24005491000                    Baltimore, MD                  68851.0\n",
              "11  24510271300       Roland Park, Baltimore, MD                  68340.0"
            ]
          },
          "metadata": {
            "tags": []
          },
          "execution_count": 142
        }
      ]
    },
    {
      "cell_type": "code",
      "metadata": {
        "id": "h-JeEmt8sppc",
        "colab": {
          "base_uri": "https://localhost:8080/",
          "height": 297
        },
        "outputId": "475bfab5-68c0-4c56-d524-8b3cba14f1d2"
      },
      "source": [
        "df_AvgIncomeBaltimore.describe()"
      ],
      "execution_count": null,
      "outputs": [
        {
          "output_type": "execute_result",
          "data": {
            "text/html": [
              "<div>\n",
              "<style scoped>\n",
              "    .dataframe tbody tr th:only-of-type {\n",
              "        vertical-align: middle;\n",
              "    }\n",
              "\n",
              "    .dataframe tbody tr th {\n",
              "        vertical-align: top;\n",
              "    }\n",
              "\n",
              "    .dataframe thead th {\n",
              "        text-align: right;\n",
              "    }\n",
              "</style>\n",
              "<table border=\"1\" class=\"dataframe\">\n",
              "  <thead>\n",
              "    <tr style=\"text-align: right;\">\n",
              "      <th></th>\n",
              "      <th>tract</th>\n",
              "      <th>Baltimore Median Income</th>\n",
              "    </tr>\n",
              "  </thead>\n",
              "  <tbody>\n",
              "    <tr>\n",
              "      <th>count</th>\n",
              "      <td>2.360000e+02</td>\n",
              "      <td>233.000000</td>\n",
              "    </tr>\n",
              "    <tr>\n",
              "      <th>mean</th>\n",
              "      <td>2.443317e+10</td>\n",
              "      <td>30955.291845</td>\n",
              "    </tr>\n",
              "    <tr>\n",
              "      <th>std</th>\n",
              "      <td>1.819128e+08</td>\n",
              "      <td>12132.179371</td>\n",
              "    </tr>\n",
              "    <tr>\n",
              "      <th>min</th>\n",
              "      <td>2.400375e+10</td>\n",
              "      <td>15979.000000</td>\n",
              "    </tr>\n",
              "    <tr>\n",
              "      <th>25%</th>\n",
              "      <td>2.451008e+10</td>\n",
              "      <td>21705.000000</td>\n",
              "    </tr>\n",
              "    <tr>\n",
              "      <th>50%</th>\n",
              "      <td>2.451016e+10</td>\n",
              "      <td>27472.000000</td>\n",
              "    </tr>\n",
              "    <tr>\n",
              "      <th>75%</th>\n",
              "      <td>2.451026e+10</td>\n",
              "      <td>36213.000000</td>\n",
              "    </tr>\n",
              "    <tr>\n",
              "      <th>max</th>\n",
              "      <td>2.451028e+10</td>\n",
              "      <td>75513.000000</td>\n",
              "    </tr>\n",
              "  </tbody>\n",
              "</table>\n",
              "</div>"
            ],
            "text/plain": [
              "              tract  Baltimore Median Income\n",
              "count  2.360000e+02               233.000000\n",
              "mean   2.443317e+10             30955.291845\n",
              "std    1.819128e+08             12132.179371\n",
              "min    2.400375e+10             15979.000000\n",
              "25%    2.451008e+10             21705.000000\n",
              "50%    2.451016e+10             27472.000000\n",
              "75%    2.451026e+10             36213.000000\n",
              "max    2.451028e+10             75513.000000"
            ]
          },
          "metadata": {
            "tags": []
          },
          "execution_count": 143
        }
      ]
    },
    {
      "cell_type": "code",
      "metadata": {
        "id": "BszUoMUZs33Q"
      },
      "source": [
        "# Average Income DC\n",
        "df_AvgIncomeDC.columns\n",
        "df_AvgIncomeDC = df_AvgIncomeDC.rename(columns={\"Household_Income_rP_gP_pall\":\"DC Median Income\"})"
      ],
      "execution_count": null,
      "outputs": []
    },
    {
      "cell_type": "code",
      "metadata": {
        "id": "voNR4dlgs-Fh",
        "colab": {
          "base_uri": "https://localhost:8080/",
          "height": 204
        },
        "outputId": "cfd0f084-7b9d-412c-f23a-355e248bf7f6"
      },
      "source": [
        "df_AvgIncomeDC.head()"
      ],
      "execution_count": null,
      "outputs": [
        {
          "output_type": "execute_result",
          "data": {
            "text/html": [
              "<div>\n",
              "<style scoped>\n",
              "    .dataframe tbody tr th:only-of-type {\n",
              "        vertical-align: middle;\n",
              "    }\n",
              "\n",
              "    .dataframe tbody tr th {\n",
              "        vertical-align: top;\n",
              "    }\n",
              "\n",
              "    .dataframe thead th {\n",
              "        text-align: right;\n",
              "    }\n",
              "</style>\n",
              "<table border=\"1\" class=\"dataframe\">\n",
              "  <thead>\n",
              "    <tr style=\"text-align: right;\">\n",
              "      <th></th>\n",
              "      <th>tract</th>\n",
              "      <th>Name</th>\n",
              "      <th>DC Median Income</th>\n",
              "    </tr>\n",
              "  </thead>\n",
              "  <tbody>\n",
              "    <tr>\n",
              "      <th>1</th>\n",
              "      <td>11001000901</td>\n",
              "      <td>Northwest Washington, Washington, DC</td>\n",
              "      <td>83482.0</td>\n",
              "    </tr>\n",
              "    <tr>\n",
              "      <th>21</th>\n",
              "      <td>11001000801</td>\n",
              "      <td>Northwest Washington, Washington, DC</td>\n",
              "      <td>72459.0</td>\n",
              "    </tr>\n",
              "    <tr>\n",
              "      <th>28</th>\n",
              "      <td>11001001402</td>\n",
              "      <td>Northwest Washington, Washington, DC</td>\n",
              "      <td>69688.0</td>\n",
              "    </tr>\n",
              "    <tr>\n",
              "      <th>32</th>\n",
              "      <td>11001000600</td>\n",
              "      <td>Northwest Washington, Washington, DC</td>\n",
              "      <td>69095.0</td>\n",
              "    </tr>\n",
              "    <tr>\n",
              "      <th>33</th>\n",
              "      <td>11001000400</td>\n",
              "      <td>Naval Observatory, Washington, DC</td>\n",
              "      <td>69006.0</td>\n",
              "    </tr>\n",
              "  </tbody>\n",
              "</table>\n",
              "</div>"
            ],
            "text/plain": [
              "          tract                                  Name  DC Median Income\n",
              "1   11001000901  Northwest Washington, Washington, DC           83482.0\n",
              "21  11001000801  Northwest Washington, Washington, DC           72459.0\n",
              "28  11001001402  Northwest Washington, Washington, DC           69688.0\n",
              "32  11001000600  Northwest Washington, Washington, DC           69095.0\n",
              "33  11001000400     Naval Observatory, Washington, DC           69006.0"
            ]
          },
          "metadata": {
            "tags": []
          },
          "execution_count": 145
        }
      ]
    },
    {
      "cell_type": "code",
      "metadata": {
        "id": "2t_cFbh_tPo5",
        "colab": {
          "base_uri": "https://localhost:8080/",
          "height": 297
        },
        "outputId": "c431ad53-5e70-48ab-b4af-aef663df5651"
      },
      "source": [
        "df_AvgIncomeDC.describe()"
      ],
      "execution_count": null,
      "outputs": [
        {
          "output_type": "execute_result",
          "data": {
            "text/html": [
              "<div>\n",
              "<style scoped>\n",
              "    .dataframe tbody tr th:only-of-type {\n",
              "        vertical-align: middle;\n",
              "    }\n",
              "\n",
              "    .dataframe tbody tr th {\n",
              "        vertical-align: top;\n",
              "    }\n",
              "\n",
              "    .dataframe thead th {\n",
              "        text-align: right;\n",
              "    }\n",
              "</style>\n",
              "<table border=\"1\" class=\"dataframe\">\n",
              "  <thead>\n",
              "    <tr style=\"text-align: right;\">\n",
              "      <th></th>\n",
              "      <th>tract</th>\n",
              "      <th>DC Median Income</th>\n",
              "    </tr>\n",
              "  </thead>\n",
              "  <tbody>\n",
              "    <tr>\n",
              "      <th>count</th>\n",
              "      <td>1.790000e+02</td>\n",
              "      <td>176.000000</td>\n",
              "    </tr>\n",
              "    <tr>\n",
              "      <th>mean</th>\n",
              "      <td>1.100101e+10</td>\n",
              "      <td>35467.323864</td>\n",
              "    </tr>\n",
              "    <tr>\n",
              "      <th>std</th>\n",
              "      <td>3.275207e+03</td>\n",
              "      <td>14236.533243</td>\n",
              "    </tr>\n",
              "    <tr>\n",
              "      <th>min</th>\n",
              "      <td>1.100100e+10</td>\n",
              "      <td>19249.000000</td>\n",
              "    </tr>\n",
              "    <tr>\n",
              "      <th>25%</th>\n",
              "      <td>1.100100e+10</td>\n",
              "      <td>25661.250000</td>\n",
              "    </tr>\n",
              "    <tr>\n",
              "      <th>50%</th>\n",
              "      <td>1.100101e+10</td>\n",
              "      <td>30306.000000</td>\n",
              "    </tr>\n",
              "    <tr>\n",
              "      <th>75%</th>\n",
              "      <td>1.100101e+10</td>\n",
              "      <td>40011.750000</td>\n",
              "    </tr>\n",
              "    <tr>\n",
              "      <th>max</th>\n",
              "      <td>1.100101e+10</td>\n",
              "      <td>83482.000000</td>\n",
              "    </tr>\n",
              "  </tbody>\n",
              "</table>\n",
              "</div>"
            ],
            "text/plain": [
              "              tract  DC Median Income\n",
              "count  1.790000e+02        176.000000\n",
              "mean   1.100101e+10      35467.323864\n",
              "std    3.275207e+03      14236.533243\n",
              "min    1.100100e+10      19249.000000\n",
              "25%    1.100100e+10      25661.250000\n",
              "50%    1.100101e+10      30306.000000\n",
              "75%    1.100101e+10      40011.750000\n",
              "max    1.100101e+10      83482.000000"
            ]
          },
          "metadata": {
            "tags": []
          },
          "execution_count": 146
        }
      ]
    },
    {
      "cell_type": "code",
      "metadata": {
        "id": "iWaOd7yutSjB"
      },
      "source": [
        "# Baltimore Stay\n",
        "df_StayBaltimore.columns\n",
        "df_StayBaltimore = df_StayBaltimore.rename(columns={\"%_Staying_in_Same_Tract_as_Adults_rP_gP_pall\": \"Baltimore % Stay\"})"
      ],
      "execution_count": null,
      "outputs": []
    },
    {
      "cell_type": "code",
      "metadata": {
        "id": "zYCObBOuuA44",
        "colab": {
          "base_uri": "https://localhost:8080/",
          "height": 204
        },
        "outputId": "a70e3829-4a0b-4c04-a479-48607d7dd09a"
      },
      "source": [
        "df_StayBaltimore.head()"
      ],
      "execution_count": null,
      "outputs": [
        {
          "output_type": "execute_result",
          "data": {
            "text/html": [
              "<div>\n",
              "<style scoped>\n",
              "    .dataframe tbody tr th:only-of-type {\n",
              "        vertical-align: middle;\n",
              "    }\n",
              "\n",
              "    .dataframe tbody tr th {\n",
              "        vertical-align: top;\n",
              "    }\n",
              "\n",
              "    .dataframe thead th {\n",
              "        text-align: right;\n",
              "    }\n",
              "</style>\n",
              "<table border=\"1\" class=\"dataframe\">\n",
              "  <thead>\n",
              "    <tr style=\"text-align: right;\">\n",
              "      <th></th>\n",
              "      <th>tract</th>\n",
              "      <th>Name</th>\n",
              "      <th>Baltimore % Stay</th>\n",
              "    </tr>\n",
              "  </thead>\n",
              "  <tbody>\n",
              "    <tr>\n",
              "      <th>0</th>\n",
              "      <td>24510260401</td>\n",
              "      <td>Armistead Gardens, Baltimore, MD</td>\n",
              "      <td>0.3593</td>\n",
              "    </tr>\n",
              "    <tr>\n",
              "      <th>1</th>\n",
              "      <td>24003750203</td>\n",
              "      <td>Baltimore, MD</td>\n",
              "      <td>0.3340</td>\n",
              "    </tr>\n",
              "    <tr>\n",
              "      <th>4</th>\n",
              "      <td>24005430200</td>\n",
              "      <td>Lansdowne - Baltimore Highlands, Lansdowne, MD</td>\n",
              "      <td>0.3183</td>\n",
              "    </tr>\n",
              "    <tr>\n",
              "      <th>6</th>\n",
              "      <td>24003750201</td>\n",
              "      <td>Brooklyn, Baltimore, MD</td>\n",
              "      <td>0.3042</td>\n",
              "    </tr>\n",
              "    <tr>\n",
              "      <th>9</th>\n",
              "      <td>24005452300</td>\n",
              "      <td>Baltimore, MD</td>\n",
              "      <td>0.2974</td>\n",
              "    </tr>\n",
              "  </tbody>\n",
              "</table>\n",
              "</div>"
            ],
            "text/plain": [
              "         tract  ... Baltimore % Stay\n",
              "0  24510260401  ...           0.3593\n",
              "1  24003750203  ...           0.3340\n",
              "4  24005430200  ...           0.3183\n",
              "6  24003750201  ...           0.3042\n",
              "9  24005452300  ...           0.2974\n",
              "\n",
              "[5 rows x 3 columns]"
            ]
          },
          "metadata": {
            "tags": []
          },
          "execution_count": 148
        }
      ]
    },
    {
      "cell_type": "code",
      "metadata": {
        "id": "6p5BkFxQus82",
        "colab": {
          "base_uri": "https://localhost:8080/",
          "height": 297
        },
        "outputId": "2b7fc3f1-6b2e-495b-b95c-af733e8e0a04"
      },
      "source": [
        "df_StayBaltimore.describe()"
      ],
      "execution_count": null,
      "outputs": [
        {
          "output_type": "execute_result",
          "data": {
            "text/html": [
              "<div>\n",
              "<style scoped>\n",
              "    .dataframe tbody tr th:only-of-type {\n",
              "        vertical-align: middle;\n",
              "    }\n",
              "\n",
              "    .dataframe tbody tr th {\n",
              "        vertical-align: top;\n",
              "    }\n",
              "\n",
              "    .dataframe thead th {\n",
              "        text-align: right;\n",
              "    }\n",
              "</style>\n",
              "<table border=\"1\" class=\"dataframe\">\n",
              "  <thead>\n",
              "    <tr style=\"text-align: right;\">\n",
              "      <th></th>\n",
              "      <th>tract</th>\n",
              "      <th>Baltimore % Stay</th>\n",
              "    </tr>\n",
              "  </thead>\n",
              "  <tbody>\n",
              "    <tr>\n",
              "      <th>count</th>\n",
              "      <td>2.360000e+02</td>\n",
              "      <td>233.000000</td>\n",
              "    </tr>\n",
              "    <tr>\n",
              "      <th>mean</th>\n",
              "      <td>2.443317e+10</td>\n",
              "      <td>0.208706</td>\n",
              "    </tr>\n",
              "    <tr>\n",
              "      <th>std</th>\n",
              "      <td>1.819128e+08</td>\n",
              "      <td>0.049025</td>\n",
              "    </tr>\n",
              "    <tr>\n",
              "      <th>min</th>\n",
              "      <td>2.400375e+10</td>\n",
              "      <td>0.061400</td>\n",
              "    </tr>\n",
              "    <tr>\n",
              "      <th>25%</th>\n",
              "      <td>2.451008e+10</td>\n",
              "      <td>0.181600</td>\n",
              "    </tr>\n",
              "    <tr>\n",
              "      <th>50%</th>\n",
              "      <td>2.451016e+10</td>\n",
              "      <td>0.211300</td>\n",
              "    </tr>\n",
              "    <tr>\n",
              "      <th>75%</th>\n",
              "      <td>2.451026e+10</td>\n",
              "      <td>0.238400</td>\n",
              "    </tr>\n",
              "    <tr>\n",
              "      <th>max</th>\n",
              "      <td>2.451028e+10</td>\n",
              "      <td>0.359300</td>\n",
              "    </tr>\n",
              "  </tbody>\n",
              "</table>\n",
              "</div>"
            ],
            "text/plain": [
              "              tract  Baltimore % Stay\n",
              "count  2.360000e+02        233.000000\n",
              "mean   2.443317e+10          0.208706\n",
              "std    1.819128e+08          0.049025\n",
              "min    2.400375e+10          0.061400\n",
              "25%    2.451008e+10          0.181600\n",
              "50%    2.451016e+10          0.211300\n",
              "75%    2.451026e+10          0.238400\n",
              "max    2.451028e+10          0.359300"
            ]
          },
          "metadata": {
            "tags": []
          },
          "execution_count": 149
        }
      ]
    },
    {
      "cell_type": "code",
      "metadata": {
        "id": "vvAw5v6yuz4F"
      },
      "source": [
        "# DC Stay\n",
        "df_StayDC.columns\n",
        "df_StayDC = df_StayDC.rename(columns={\"%_Staying_in_Same_Tract_as_Adults_rP_gP_pall\":\"DC % Stay\"})"
      ],
      "execution_count": null,
      "outputs": []
    },
    {
      "cell_type": "code",
      "metadata": {
        "id": "YY3fzLbyvLPO",
        "colab": {
          "base_uri": "https://localhost:8080/",
          "height": 204
        },
        "outputId": "aa2bcba3-1868-4050-ef62-25556edb6419"
      },
      "source": [
        "df_StayDC.head()"
      ],
      "execution_count": null,
      "outputs": [
        {
          "output_type": "execute_result",
          "data": {
            "text/html": [
              "<div>\n",
              "<style scoped>\n",
              "    .dataframe tbody tr th:only-of-type {\n",
              "        vertical-align: middle;\n",
              "    }\n",
              "\n",
              "    .dataframe tbody tr th {\n",
              "        vertical-align: top;\n",
              "    }\n",
              "\n",
              "    .dataframe thead th {\n",
              "        text-align: right;\n",
              "    }\n",
              "</style>\n",
              "<table border=\"1\" class=\"dataframe\">\n",
              "  <thead>\n",
              "    <tr style=\"text-align: right;\">\n",
              "      <th></th>\n",
              "      <th>tract</th>\n",
              "      <th>Name</th>\n",
              "      <th>DC % Stay</th>\n",
              "    </tr>\n",
              "  </thead>\n",
              "  <tbody>\n",
              "    <tr>\n",
              "      <th>0</th>\n",
              "      <td>11001004702</td>\n",
              "      <td>Northwest Washington, Washington, DC</td>\n",
              "      <td>0.3761</td>\n",
              "    </tr>\n",
              "    <tr>\n",
              "      <th>1</th>\n",
              "      <td>11001009509</td>\n",
              "      <td>Michigan Park, Washington, DC</td>\n",
              "      <td>0.3534</td>\n",
              "    </tr>\n",
              "    <tr>\n",
              "      <th>2</th>\n",
              "      <td>11001009507</td>\n",
              "      <td>Northeast Washington, Washington, DC</td>\n",
              "      <td>0.3442</td>\n",
              "    </tr>\n",
              "    <tr>\n",
              "      <th>3</th>\n",
              "      <td>11001009000</td>\n",
              "      <td>Fort Lincoln, Washington, DC</td>\n",
              "      <td>0.3421</td>\n",
              "    </tr>\n",
              "    <tr>\n",
              "      <th>4</th>\n",
              "      <td>11001007806</td>\n",
              "      <td>Northeast Washington, Washington, DC</td>\n",
              "      <td>0.3350</td>\n",
              "    </tr>\n",
              "  </tbody>\n",
              "</table>\n",
              "</div>"
            ],
            "text/plain": [
              "         tract                                  Name  DC % Stay\n",
              "0  11001004702  Northwest Washington, Washington, DC     0.3761\n",
              "1  11001009509         Michigan Park, Washington, DC     0.3534\n",
              "2  11001009507  Northeast Washington, Washington, DC     0.3442\n",
              "3  11001009000          Fort Lincoln, Washington, DC     0.3421\n",
              "4  11001007806  Northeast Washington, Washington, DC     0.3350"
            ]
          },
          "metadata": {
            "tags": []
          },
          "execution_count": 151
        }
      ]
    },
    {
      "cell_type": "code",
      "metadata": {
        "id": "5KYAgx6UvNUO",
        "colab": {
          "base_uri": "https://localhost:8080/",
          "height": 297
        },
        "outputId": "6d6b0bf6-44fa-4d6a-b486-af73339a56ab"
      },
      "source": [
        "df_StayDC.describe()"
      ],
      "execution_count": null,
      "outputs": [
        {
          "output_type": "execute_result",
          "data": {
            "text/html": [
              "<div>\n",
              "<style scoped>\n",
              "    .dataframe tbody tr th:only-of-type {\n",
              "        vertical-align: middle;\n",
              "    }\n",
              "\n",
              "    .dataframe tbody tr th {\n",
              "        vertical-align: top;\n",
              "    }\n",
              "\n",
              "    .dataframe thead th {\n",
              "        text-align: right;\n",
              "    }\n",
              "</style>\n",
              "<table border=\"1\" class=\"dataframe\">\n",
              "  <thead>\n",
              "    <tr style=\"text-align: right;\">\n",
              "      <th></th>\n",
              "      <th>tract</th>\n",
              "      <th>DC % Stay</th>\n",
              "    </tr>\n",
              "  </thead>\n",
              "  <tbody>\n",
              "    <tr>\n",
              "      <th>count</th>\n",
              "      <td>1.790000e+02</td>\n",
              "      <td>176.000000</td>\n",
              "    </tr>\n",
              "    <tr>\n",
              "      <th>mean</th>\n",
              "      <td>1.100101e+10</td>\n",
              "      <td>0.218729</td>\n",
              "    </tr>\n",
              "    <tr>\n",
              "      <th>std</th>\n",
              "      <td>3.275207e+03</td>\n",
              "      <td>0.066116</td>\n",
              "    </tr>\n",
              "    <tr>\n",
              "      <th>min</th>\n",
              "      <td>1.100100e+10</td>\n",
              "      <td>0.050100</td>\n",
              "    </tr>\n",
              "    <tr>\n",
              "      <th>25%</th>\n",
              "      <td>1.100100e+10</td>\n",
              "      <td>0.177450</td>\n",
              "    </tr>\n",
              "    <tr>\n",
              "      <th>50%</th>\n",
              "      <td>1.100101e+10</td>\n",
              "      <td>0.226100</td>\n",
              "    </tr>\n",
              "    <tr>\n",
              "      <th>75%</th>\n",
              "      <td>1.100101e+10</td>\n",
              "      <td>0.264825</td>\n",
              "    </tr>\n",
              "    <tr>\n",
              "      <th>max</th>\n",
              "      <td>1.100101e+10</td>\n",
              "      <td>0.376100</td>\n",
              "    </tr>\n",
              "  </tbody>\n",
              "</table>\n",
              "</div>"
            ],
            "text/plain": [
              "              tract   DC % Stay\n",
              "count  1.790000e+02  176.000000\n",
              "mean   1.100101e+10    0.218729\n",
              "std    3.275207e+03    0.066116\n",
              "min    1.100100e+10    0.050100\n",
              "25%    1.100100e+10    0.177450\n",
              "50%    1.100101e+10    0.226100\n",
              "75%    1.100101e+10    0.264825\n",
              "max    1.100101e+10    0.376100"
            ]
          },
          "metadata": {
            "tags": []
          },
          "execution_count": 152
        }
      ]
    },
    {
      "cell_type": "code",
      "metadata": {
        "id": "08KmwYTP747Z"
      },
      "source": [
        "# Income Stay Baltimore\n",
        "df_IncomeStayBaltimore = df_IncomeStayBaltimore.rename(columns={\"Household_Income_Stayed_in_Commuting_Zone_rP_gP_pall\": \"Baltimore Income Stayed in Commuting Zone\"})"
      ],
      "execution_count": null,
      "outputs": []
    },
    {
      "cell_type": "code",
      "metadata": {
        "colab": {
          "base_uri": "https://localhost:8080/",
          "height": 204
        },
        "id": "37nqOck98Okm",
        "outputId": "66ad592d-7b68-41a8-8013-aca4b2b169cf"
      },
      "source": [
        "df_IncomeStayBaltimore.head()"
      ],
      "execution_count": null,
      "outputs": [
        {
          "output_type": "execute_result",
          "data": {
            "text/html": [
              "<div>\n",
              "<style scoped>\n",
              "    .dataframe tbody tr th:only-of-type {\n",
              "        vertical-align: middle;\n",
              "    }\n",
              "\n",
              "    .dataframe tbody tr th {\n",
              "        vertical-align: top;\n",
              "    }\n",
              "\n",
              "    .dataframe thead th {\n",
              "        text-align: right;\n",
              "    }\n",
              "</style>\n",
              "<table border=\"1\" class=\"dataframe\">\n",
              "  <thead>\n",
              "    <tr style=\"text-align: right;\">\n",
              "      <th></th>\n",
              "      <th>tract</th>\n",
              "      <th>Name</th>\n",
              "      <th>Baltimore Income Stayed in Commuting Zone</th>\n",
              "    </tr>\n",
              "  </thead>\n",
              "  <tbody>\n",
              "    <tr>\n",
              "      <th>3</th>\n",
              "      <td>24005403601</td>\n",
              "      <td>Baltimore, MD</td>\n",
              "      <td>68109.0</td>\n",
              "    </tr>\n",
              "    <tr>\n",
              "      <th>10</th>\n",
              "      <td>24005491000</td>\n",
              "      <td>Baltimore, MD</td>\n",
              "      <td>64047.0</td>\n",
              "    </tr>\n",
              "    <tr>\n",
              "      <th>18</th>\n",
              "      <td>24005490603</td>\n",
              "      <td>Baltimore, MD</td>\n",
              "      <td>59609.0</td>\n",
              "    </tr>\n",
              "    <tr>\n",
              "      <th>20</th>\n",
              "      <td>24510271200</td>\n",
              "      <td>Homeland, Baltimore, MD</td>\n",
              "      <td>59192.0</td>\n",
              "    </tr>\n",
              "    <tr>\n",
              "      <th>21</th>\n",
              "      <td>24510271501</td>\n",
              "      <td>Mount Washington, Baltimore, MD</td>\n",
              "      <td>58794.0</td>\n",
              "    </tr>\n",
              "  </tbody>\n",
              "</table>\n",
              "</div>"
            ],
            "text/plain": [
              "          tract  ... Baltimore Income Stayed in Commuting Zone\n",
              "3   24005403601  ...                                   68109.0\n",
              "10  24005491000  ...                                   64047.0\n",
              "18  24005490603  ...                                   59609.0\n",
              "20  24510271200  ...                                   59192.0\n",
              "21  24510271501  ...                                   58794.0\n",
              "\n",
              "[5 rows x 3 columns]"
            ]
          },
          "metadata": {
            "tags": []
          },
          "execution_count": 154
        }
      ]
    },
    {
      "cell_type": "code",
      "metadata": {
        "id": "RFsIpweZ8QpZ"
      },
      "source": [
        "# Income Stay DC\n",
        "df_IncomeStayDC = df_IncomeStayDC.rename(columns={\"Household_Income_Stayed_in_Commuting_Zone_rP_gP_pall\": \"DC Income Stayed in Commuting Zone\"})"
      ],
      "execution_count": null,
      "outputs": []
    },
    {
      "cell_type": "code",
      "metadata": {
        "colab": {
          "base_uri": "https://localhost:8080/",
          "height": 204
        },
        "id": "_BBeneTv8dNM",
        "outputId": "62c549cc-caa6-45a0-ba41-745c29f2b7c5"
      },
      "source": [
        "df_IncomeStayDC.head()"
      ],
      "execution_count": null,
      "outputs": [
        {
          "output_type": "execute_result",
          "data": {
            "text/html": [
              "<div>\n",
              "<style scoped>\n",
              "    .dataframe tbody tr th:only-of-type {\n",
              "        vertical-align: middle;\n",
              "    }\n",
              "\n",
              "    .dataframe tbody tr th {\n",
              "        vertical-align: top;\n",
              "    }\n",
              "\n",
              "    .dataframe thead th {\n",
              "        text-align: right;\n",
              "    }\n",
              "</style>\n",
              "<table border=\"1\" class=\"dataframe\">\n",
              "  <thead>\n",
              "    <tr style=\"text-align: right;\">\n",
              "      <th></th>\n",
              "      <th>tract</th>\n",
              "      <th>Name</th>\n",
              "      <th>DC Income Stayed in Commuting Zone</th>\n",
              "    </tr>\n",
              "  </thead>\n",
              "  <tbody>\n",
              "    <tr>\n",
              "      <th>11</th>\n",
              "      <td>11001000801</td>\n",
              "      <td>Northwest Washington, Washington, DC</td>\n",
              "      <td>73621.0</td>\n",
              "    </tr>\n",
              "    <tr>\n",
              "      <th>17</th>\n",
              "      <td>11001001402</td>\n",
              "      <td>Northwest Washington, Washington, DC</td>\n",
              "      <td>72380.0</td>\n",
              "    </tr>\n",
              "    <tr>\n",
              "      <th>20</th>\n",
              "      <td>11001000901</td>\n",
              "      <td>Northwest Washington, Washington, DC</td>\n",
              "      <td>71451.0</td>\n",
              "    </tr>\n",
              "    <tr>\n",
              "      <th>25</th>\n",
              "      <td>11001001401</td>\n",
              "      <td>Northwest Washington, Washington, DC</td>\n",
              "      <td>70126.0</td>\n",
              "    </tr>\n",
              "    <tr>\n",
              "      <th>37</th>\n",
              "      <td>11001006600</td>\n",
              "      <td>Capitol Hill, Washington, DC</td>\n",
              "      <td>66873.0</td>\n",
              "    </tr>\n",
              "  </tbody>\n",
              "</table>\n",
              "</div>"
            ],
            "text/plain": [
              "          tract  ... DC Income Stayed in Commuting Zone\n",
              "11  11001000801  ...                            73621.0\n",
              "17  11001001402  ...                            72380.0\n",
              "20  11001000901  ...                            71451.0\n",
              "25  11001001401  ...                            70126.0\n",
              "37  11001006600  ...                            66873.0\n",
              "\n",
              "[5 rows x 3 columns]"
            ]
          },
          "metadata": {
            "tags": []
          },
          "execution_count": 156
        }
      ]
    },
    {
      "cell_type": "markdown",
      "metadata": {
        "id": "IecP7lkeytPH"
      },
      "source": [
        "## Merging Data"
      ]
    },
    {
      "cell_type": "code",
      "metadata": {
        "colab": {
          "base_uri": "https://localhost:8080/",
          "height": 204
        },
        "id": "IZEjyHRPBXop",
        "outputId": "41574971-0e24-4c9b-f054-4d4e6194b358"
      },
      "source": [
        "# Merge Baltimore Average Income with % Stay\n",
        "df_baltimore_merge = pd.merge(df_AvgIncomeBaltimore, df_StayBaltimore, how = \"left\", on= \"tract\")\n",
        "\n",
        "# Merge Income Stayed in Commuting Zone Baltimore\n",
        "df_baltimore_merge = pd.merge(df_IncomeStayBaltimore, df_baltimore_merge, how = \"right\", on = \"tract\")\n",
        "\n",
        "#Rename Neighborhood Names\n",
        "df_baltimore_merge = df_baltimore_merge.rename(columns={\"Name_x\":\"Name1\",\n",
        "                                                        \"Name_y\": \"Name2\"})\n",
        "del df_baltimore_merge[\"Name1\"]\n",
        "del df_baltimore_merge[\"Name2\"]\n",
        "df_baltimore_merge.head()"
      ],
      "execution_count": null,
      "outputs": [
        {
          "output_type": "execute_result",
          "data": {
            "text/html": [
              "<div>\n",
              "<style scoped>\n",
              "    .dataframe tbody tr th:only-of-type {\n",
              "        vertical-align: middle;\n",
              "    }\n",
              "\n",
              "    .dataframe tbody tr th {\n",
              "        vertical-align: top;\n",
              "    }\n",
              "\n",
              "    .dataframe thead th {\n",
              "        text-align: right;\n",
              "    }\n",
              "</style>\n",
              "<table border=\"1\" class=\"dataframe\">\n",
              "  <thead>\n",
              "    <tr style=\"text-align: right;\">\n",
              "      <th></th>\n",
              "      <th>tract</th>\n",
              "      <th>Name</th>\n",
              "      <th>Baltimore Income Stayed in Commuting Zone</th>\n",
              "      <th>Baltimore Median Income</th>\n",
              "      <th>Baltimore % Stay</th>\n",
              "    </tr>\n",
              "  </thead>\n",
              "  <tbody>\n",
              "    <tr>\n",
              "      <th>0</th>\n",
              "      <td>24005403601</td>\n",
              "      <td>Baltimore, MD</td>\n",
              "      <td>68109.0</td>\n",
              "      <td>75513.0</td>\n",
              "      <td>0.1560</td>\n",
              "    </tr>\n",
              "    <tr>\n",
              "      <th>1</th>\n",
              "      <td>24510271400</td>\n",
              "      <td>Evergreen, Baltimore, MD</td>\n",
              "      <td>56479.0</td>\n",
              "      <td>71859.0</td>\n",
              "      <td>0.0743</td>\n",
              "    </tr>\n",
              "    <tr>\n",
              "      <th>2</th>\n",
              "      <td>24510271501</td>\n",
              "      <td>Mount Washington, Baltimore, MD</td>\n",
              "      <td>58794.0</td>\n",
              "      <td>69634.0</td>\n",
              "      <td>0.1041</td>\n",
              "    </tr>\n",
              "    <tr>\n",
              "      <th>3</th>\n",
              "      <td>24005491000</td>\n",
              "      <td>Baltimore, MD</td>\n",
              "      <td>64047.0</td>\n",
              "      <td>68851.0</td>\n",
              "      <td>0.1641</td>\n",
              "    </tr>\n",
              "    <tr>\n",
              "      <th>4</th>\n",
              "      <td>24510271300</td>\n",
              "      <td>Roland Park, Baltimore, MD</td>\n",
              "      <td>51164.0</td>\n",
              "      <td>68340.0</td>\n",
              "      <td>0.1310</td>\n",
              "    </tr>\n",
              "  </tbody>\n",
              "</table>\n",
              "</div>"
            ],
            "text/plain": [
              "         tract  ... Baltimore % Stay\n",
              "0  24005403601  ...           0.1560\n",
              "1  24510271400  ...           0.0743\n",
              "2  24510271501  ...           0.1041\n",
              "3  24005491000  ...           0.1641\n",
              "4  24510271300  ...           0.1310\n",
              "\n",
              "[5 rows x 5 columns]"
            ]
          },
          "metadata": {
            "tags": []
          },
          "execution_count": 157
        }
      ]
    },
    {
      "cell_type": "code",
      "metadata": {
        "id": "i1RrPbIbBzZY",
        "colab": {
          "base_uri": "https://localhost:8080/",
          "height": 204
        },
        "outputId": "7d3cdec9-9b05-421e-dbbf-a2bf87431ff5"
      },
      "source": [
        "# Merge DC Average Income with % Stay\n",
        "df_dc_merge = pd.merge(df_AvgIncomeDC, df_StayDC, how = \"left\", on= \"tract\")\n",
        "\n",
        "# Merge Income Stayed in Commuting Zone DC\n",
        "df_dc_merge = pd.merge(df_IncomeStayDC, df_dc_merge, how = \"right\", on = \"tract\")\n",
        "\n",
        "#Rename Neighborhood Names\n",
        "df_dc_merge = df_dc_merge.rename(columns={\"Name_x\":\"Name1\",\n",
        "                                          \"Name_y\": \"Name2\"})\n",
        "del df_dc_merge[\"Name1\"]\n",
        "del df_dc_merge[\"Name2\"]\n",
        "df_dc_merge.head()"
      ],
      "execution_count": null,
      "outputs": [
        {
          "output_type": "execute_result",
          "data": {
            "text/html": [
              "<div>\n",
              "<style scoped>\n",
              "    .dataframe tbody tr th:only-of-type {\n",
              "        vertical-align: middle;\n",
              "    }\n",
              "\n",
              "    .dataframe tbody tr th {\n",
              "        vertical-align: top;\n",
              "    }\n",
              "\n",
              "    .dataframe thead th {\n",
              "        text-align: right;\n",
              "    }\n",
              "</style>\n",
              "<table border=\"1\" class=\"dataframe\">\n",
              "  <thead>\n",
              "    <tr style=\"text-align: right;\">\n",
              "      <th></th>\n",
              "      <th>tract</th>\n",
              "      <th>Name</th>\n",
              "      <th>DC Income Stayed in Commuting Zone</th>\n",
              "      <th>DC Median Income</th>\n",
              "      <th>DC % Stay</th>\n",
              "    </tr>\n",
              "  </thead>\n",
              "  <tbody>\n",
              "    <tr>\n",
              "      <th>0</th>\n",
              "      <td>11001000901</td>\n",
              "      <td>Northwest Washington, Washington, DC</td>\n",
              "      <td>71451.0</td>\n",
              "      <td>83482.0</td>\n",
              "      <td>0.1190</td>\n",
              "    </tr>\n",
              "    <tr>\n",
              "      <th>1</th>\n",
              "      <td>11001000801</td>\n",
              "      <td>Northwest Washington, Washington, DC</td>\n",
              "      <td>73621.0</td>\n",
              "      <td>72459.0</td>\n",
              "      <td>0.0951</td>\n",
              "    </tr>\n",
              "    <tr>\n",
              "      <th>2</th>\n",
              "      <td>11001001402</td>\n",
              "      <td>Northwest Washington, Washington, DC</td>\n",
              "      <td>72380.0</td>\n",
              "      <td>69688.0</td>\n",
              "      <td>0.0689</td>\n",
              "    </tr>\n",
              "    <tr>\n",
              "      <th>3</th>\n",
              "      <td>11001000600</td>\n",
              "      <td>Northwest Washington, Washington, DC</td>\n",
              "      <td>62047.0</td>\n",
              "      <td>69095.0</td>\n",
              "      <td>0.1220</td>\n",
              "    </tr>\n",
              "    <tr>\n",
              "      <th>4</th>\n",
              "      <td>11001000400</td>\n",
              "      <td>Naval Observatory, Washington, DC</td>\n",
              "      <td>61237.0</td>\n",
              "      <td>69006.0</td>\n",
              "      <td>0.1853</td>\n",
              "    </tr>\n",
              "  </tbody>\n",
              "</table>\n",
              "</div>"
            ],
            "text/plain": [
              "         tract  ... DC % Stay\n",
              "0  11001000901  ...    0.1190\n",
              "1  11001000801  ...    0.0951\n",
              "2  11001001402  ...    0.0689\n",
              "3  11001000600  ...    0.1220\n",
              "4  11001000400  ...    0.1853\n",
              "\n",
              "[5 rows x 5 columns]"
            ]
          },
          "metadata": {
            "tags": []
          },
          "execution_count": 158
        }
      ]
    },
    {
      "cell_type": "code",
      "metadata": {
        "id": "9hW7ZdzrEcKQ"
      },
      "source": [
        "# sort data\n",
        "df_baltimore_merge = df_baltimore_merge.sort_values(by = \"Baltimore Median Income\")\n",
        "df_dc_merge = df_dc_merge.sort_values(by = \"DC Median Income\")"
      ],
      "execution_count": null,
      "outputs": []
    },
    {
      "cell_type": "code",
      "metadata": {
        "id": "GOMPl0YjE1qw",
        "colab": {
          "base_uri": "https://localhost:8080/"
        },
        "outputId": "2baedf76-308f-4392-a8f6-addd788e6663"
      },
      "source": [
        "df_baltimore_merge.info()"
      ],
      "execution_count": null,
      "outputs": [
        {
          "output_type": "stream",
          "text": [
            "<class 'pandas.core.frame.DataFrame'>\n",
            "Int64Index: 236 entries, 232 to 235\n",
            "Data columns (total 5 columns):\n",
            " #   Column                                     Non-Null Count  Dtype  \n",
            "---  ------                                     --------------  -----  \n",
            " 0   tract                                      236 non-null    int64  \n",
            " 1   Name                                       236 non-null    object \n",
            " 2   Baltimore Income Stayed in Commuting Zone  233 non-null    float64\n",
            " 3   Baltimore Median Income                    233 non-null    float64\n",
            " 4   Baltimore % Stay                           233 non-null    float64\n",
            "dtypes: float64(3), int64(1), object(1)\n",
            "memory usage: 11.1+ KB\n"
          ],
          "name": "stdout"
        }
      ]
    },
    {
      "cell_type": "code",
      "metadata": {
        "id": "ERszg09aFAXs",
        "colab": {
          "base_uri": "https://localhost:8080/"
        },
        "outputId": "97ad80c7-e4e6-47c9-cfb8-e306a2ed407d"
      },
      "source": [
        "df_dc_merge.info()"
      ],
      "execution_count": null,
      "outputs": [
        {
          "output_type": "stream",
          "text": [
            "<class 'pandas.core.frame.DataFrame'>\n",
            "Int64Index: 179 entries, 175 to 178\n",
            "Data columns (total 5 columns):\n",
            " #   Column                              Non-Null Count  Dtype  \n",
            "---  ------                              --------------  -----  \n",
            " 0   tract                               179 non-null    int64  \n",
            " 1   Name                                179 non-null    object \n",
            " 2   DC Income Stayed in Commuting Zone  175 non-null    float64\n",
            " 3   DC Median Income                    176 non-null    float64\n",
            " 4   DC % Stay                           176 non-null    float64\n",
            "dtypes: float64(3), int64(1), object(1)\n",
            "memory usage: 8.4+ KB\n"
          ],
          "name": "stdout"
        }
      ]
    },
    {
      "cell_type": "markdown",
      "metadata": {
        "id": "GYn2mkEuFGMi"
      },
      "source": [
        "## Calculating Averages?"
      ]
    },
    {
      "cell_type": "code",
      "metadata": {
        "id": "awvSsOwQZ884"
      },
      "source": [
        "# Change datatype of tract into plain text\n",
        "df_baltimore_merge[\"tract\"] = df_baltimore_merge[\"tract\"].astype(str)\n",
        "df_dc_merge[\"tract\"] = df_dc_merge[\"tract\"].astype(str)"
      ],
      "execution_count": null,
      "outputs": []
    },
    {
      "cell_type": "code",
      "metadata": {
        "colab": {
          "base_uri": "https://localhost:8080/"
        },
        "id": "Z5JEj3mkpArq",
        "outputId": "5157940d-1dbd-4fd1-d6d9-e06fac9fa03d"
      },
      "source": [
        "# preview info\n",
        "df_baltimore_merge.info()"
      ],
      "execution_count": null,
      "outputs": [
        {
          "output_type": "stream",
          "text": [
            "<class 'pandas.core.frame.DataFrame'>\n",
            "Int64Index: 236 entries, 232 to 235\n",
            "Data columns (total 5 columns):\n",
            " #   Column                                     Non-Null Count  Dtype  \n",
            "---  ------                                     --------------  -----  \n",
            " 0   tract                                      236 non-null    object \n",
            " 1   Name                                       236 non-null    object \n",
            " 2   Baltimore Income Stayed in Commuting Zone  233 non-null    float64\n",
            " 3   Baltimore Median Income                    233 non-null    float64\n",
            " 4   Baltimore % Stay                           233 non-null    float64\n",
            "dtypes: float64(3), object(2)\n",
            "memory usage: 11.1+ KB\n"
          ],
          "name": "stdout"
        }
      ]
    },
    {
      "cell_type": "code",
      "metadata": {
        "colab": {
          "base_uri": "https://localhost:8080/"
        },
        "id": "DwzcL76gpFpr",
        "outputId": "6099fb0c-cdee-47bc-d5e0-8791ab2cc007"
      },
      "source": [
        "# preview info\n",
        "df_dc_merge.info()"
      ],
      "execution_count": null,
      "outputs": [
        {
          "output_type": "stream",
          "text": [
            "<class 'pandas.core.frame.DataFrame'>\n",
            "Int64Index: 179 entries, 175 to 178\n",
            "Data columns (total 5 columns):\n",
            " #   Column                              Non-Null Count  Dtype  \n",
            "---  ------                              --------------  -----  \n",
            " 0   tract                               179 non-null    object \n",
            " 1   Name                                179 non-null    object \n",
            " 2   DC Income Stayed in Commuting Zone  175 non-null    float64\n",
            " 3   DC Median Income                    176 non-null    float64\n",
            " 4   DC % Stay                           176 non-null    float64\n",
            "dtypes: float64(3), object(2)\n",
            "memory usage: 8.4+ KB\n"
          ],
          "name": "stdout"
        }
      ]
    },
    {
      "cell_type": "markdown",
      "metadata": {
        "id": "gt5KKH62vMDi"
      },
      "source": [
        "### Income Averages"
      ]
    },
    {
      "cell_type": "code",
      "metadata": {
        "id": "-U6hwCLBpIQO"
      },
      "source": [
        "# creating a dataset with average of two metrics\n",
        "df_avg_bmore = df_baltimore_merge[[\"Baltimore Income Stayed in Commuting Zone\", \"Baltimore Median Income\"]].agg([\"mean\"]).reset_index()\n",
        "df_avg_dc = df_dc_merge[[\"DC Income Stayed in Commuting Zone\", \"DC Median Income\"]].agg([\"mean\"]).reset_index()"
      ],
      "execution_count": null,
      "outputs": []
    },
    {
      "cell_type": "code",
      "metadata": {
        "colab": {
          "base_uri": "https://localhost:8080/",
          "height": 80
        },
        "id": "EhD18icEpmOr",
        "outputId": "169f06ad-110b-41be-dd78-32344cb8338e"
      },
      "source": [
        "# preview average datasets\n",
        "df_avg_bmore.head()"
      ],
      "execution_count": null,
      "outputs": [
        {
          "output_type": "execute_result",
          "data": {
            "text/html": [
              "<div>\n",
              "<style scoped>\n",
              "    .dataframe tbody tr th:only-of-type {\n",
              "        vertical-align: middle;\n",
              "    }\n",
              "\n",
              "    .dataframe tbody tr th {\n",
              "        vertical-align: top;\n",
              "    }\n",
              "\n",
              "    .dataframe thead th {\n",
              "        text-align: right;\n",
              "    }\n",
              "</style>\n",
              "<table border=\"1\" class=\"dataframe\">\n",
              "  <thead>\n",
              "    <tr style=\"text-align: right;\">\n",
              "      <th></th>\n",
              "      <th>index</th>\n",
              "      <th>Baltimore Income Stayed in Commuting Zone</th>\n",
              "      <th>Baltimore Median Income</th>\n",
              "    </tr>\n",
              "  </thead>\n",
              "  <tbody>\n",
              "    <tr>\n",
              "      <th>0</th>\n",
              "      <td>mean</td>\n",
              "      <td>29874.914163</td>\n",
              "      <td>30955.291845</td>\n",
              "    </tr>\n",
              "  </tbody>\n",
              "</table>\n",
              "</div>"
            ],
            "text/plain": [
              "  index  Baltimore Income Stayed in Commuting Zone  Baltimore Median Income\n",
              "0  mean                               29874.914163             30955.291845"
            ]
          },
          "metadata": {
            "tags": []
          },
          "execution_count": 167
        }
      ]
    },
    {
      "cell_type": "code",
      "metadata": {
        "colab": {
          "base_uri": "https://localhost:8080/",
          "height": 80
        },
        "id": "jRrwmM40pp6n",
        "outputId": "1086bf4f-75ae-4ad6-d1f2-3b3e4ddc722b"
      },
      "source": [
        "# preview average datasets\n",
        "df_avg_dc.head()"
      ],
      "execution_count": null,
      "outputs": [
        {
          "output_type": "execute_result",
          "data": {
            "text/html": [
              "<div>\n",
              "<style scoped>\n",
              "    .dataframe tbody tr th:only-of-type {\n",
              "        vertical-align: middle;\n",
              "    }\n",
              "\n",
              "    .dataframe tbody tr th {\n",
              "        vertical-align: top;\n",
              "    }\n",
              "\n",
              "    .dataframe thead th {\n",
              "        text-align: right;\n",
              "    }\n",
              "</style>\n",
              "<table border=\"1\" class=\"dataframe\">\n",
              "  <thead>\n",
              "    <tr style=\"text-align: right;\">\n",
              "      <th></th>\n",
              "      <th>index</th>\n",
              "      <th>DC Income Stayed in Commuting Zone</th>\n",
              "      <th>DC Median Income</th>\n",
              "    </tr>\n",
              "  </thead>\n",
              "  <tbody>\n",
              "    <tr>\n",
              "      <th>0</th>\n",
              "      <td>mean</td>\n",
              "      <td>34758.96</td>\n",
              "      <td>35467.323864</td>\n",
              "    </tr>\n",
              "  </tbody>\n",
              "</table>\n",
              "</div>"
            ],
            "text/plain": [
              "  index  DC Income Stayed in Commuting Zone  DC Median Income\n",
              "0  mean                            34758.96      35467.323864"
            ]
          },
          "metadata": {
            "tags": []
          },
          "execution_count": 168
        }
      ]
    },
    {
      "cell_type": "code",
      "metadata": {
        "id": "_VAYoSsEps_y"
      },
      "source": [
        "# transposing the dataset\n",
        "df_avg_bmore = df_avg_bmore.T\n",
        "df_avg_dc = df_avg_dc.T"
      ],
      "execution_count": null,
      "outputs": []
    },
    {
      "cell_type": "code",
      "metadata": {
        "colab": {
          "base_uri": "https://localhost:8080/",
          "height": 142
        },
        "id": "8z9qn05rp0Sk",
        "outputId": "3011e345-ddc0-4ca7-96a8-2650c1255ef0"
      },
      "source": [
        "# preview\n",
        "df_avg_bmore.head()"
      ],
      "execution_count": null,
      "outputs": [
        {
          "output_type": "execute_result",
          "data": {
            "text/html": [
              "<div>\n",
              "<style scoped>\n",
              "    .dataframe tbody tr th:only-of-type {\n",
              "        vertical-align: middle;\n",
              "    }\n",
              "\n",
              "    .dataframe tbody tr th {\n",
              "        vertical-align: top;\n",
              "    }\n",
              "\n",
              "    .dataframe thead th {\n",
              "        text-align: right;\n",
              "    }\n",
              "</style>\n",
              "<table border=\"1\" class=\"dataframe\">\n",
              "  <thead>\n",
              "    <tr style=\"text-align: right;\">\n",
              "      <th></th>\n",
              "      <th>0</th>\n",
              "    </tr>\n",
              "  </thead>\n",
              "  <tbody>\n",
              "    <tr>\n",
              "      <th>index</th>\n",
              "      <td>mean</td>\n",
              "    </tr>\n",
              "    <tr>\n",
              "      <th>Baltimore Income Stayed in Commuting Zone</th>\n",
              "      <td>29874.9</td>\n",
              "    </tr>\n",
              "    <tr>\n",
              "      <th>Baltimore Median Income</th>\n",
              "      <td>30955.3</td>\n",
              "    </tr>\n",
              "  </tbody>\n",
              "</table>\n",
              "</div>"
            ],
            "text/plain": [
              "                                                 0\n",
              "index                                         mean\n",
              "Baltimore Income Stayed in Commuting Zone  29874.9\n",
              "Baltimore Median Income                    30955.3"
            ]
          },
          "metadata": {
            "tags": []
          },
          "execution_count": 170
        }
      ]
    },
    {
      "cell_type": "code",
      "metadata": {
        "colab": {
          "base_uri": "https://localhost:8080/",
          "height": 142
        },
        "id": "wRGhr1oMp18b",
        "outputId": "3e2b8eab-bd92-4238-e431-1bf994f5f8e9"
      },
      "source": [
        "# preview\n",
        "df_avg_dc.head()"
      ],
      "execution_count": null,
      "outputs": [
        {
          "output_type": "execute_result",
          "data": {
            "text/html": [
              "<div>\n",
              "<style scoped>\n",
              "    .dataframe tbody tr th:only-of-type {\n",
              "        vertical-align: middle;\n",
              "    }\n",
              "\n",
              "    .dataframe tbody tr th {\n",
              "        vertical-align: top;\n",
              "    }\n",
              "\n",
              "    .dataframe thead th {\n",
              "        text-align: right;\n",
              "    }\n",
              "</style>\n",
              "<table border=\"1\" class=\"dataframe\">\n",
              "  <thead>\n",
              "    <tr style=\"text-align: right;\">\n",
              "      <th></th>\n",
              "      <th>0</th>\n",
              "    </tr>\n",
              "  </thead>\n",
              "  <tbody>\n",
              "    <tr>\n",
              "      <th>index</th>\n",
              "      <td>mean</td>\n",
              "    </tr>\n",
              "    <tr>\n",
              "      <th>DC Income Stayed in Commuting Zone</th>\n",
              "      <td>34759</td>\n",
              "    </tr>\n",
              "    <tr>\n",
              "      <th>DC Median Income</th>\n",
              "      <td>35467.3</td>\n",
              "    </tr>\n",
              "  </tbody>\n",
              "</table>\n",
              "</div>"
            ],
            "text/plain": [
              "                                          0\n",
              "index                                  mean\n",
              "DC Income Stayed in Commuting Zone    34759\n",
              "DC Median Income                    35467.3"
            ]
          },
          "metadata": {
            "tags": []
          },
          "execution_count": 171
        }
      ]
    },
    {
      "cell_type": "code",
      "metadata": {
        "id": "rkMFT9VWp46L"
      },
      "source": [
        "# removing the index \"0\"\n",
        "df_avg_bmore = df_avg_bmore.drop(df_avg_bmore.index[0])\n",
        "df_avg_dc = df_avg_dc.drop(df_avg_dc.index[0])"
      ],
      "execution_count": null,
      "outputs": []
    },
    {
      "cell_type": "code",
      "metadata": {
        "colab": {
          "base_uri": "https://localhost:8080/",
          "height": 111
        },
        "id": "em4yiwYIqFQ9",
        "outputId": "51ab7a4d-db2d-4bd3-ba13-a6b2bbfb993f"
      },
      "source": [
        "# preview\n",
        "df_avg_bmore.head()"
      ],
      "execution_count": null,
      "outputs": [
        {
          "output_type": "execute_result",
          "data": {
            "text/html": [
              "<div>\n",
              "<style scoped>\n",
              "    .dataframe tbody tr th:only-of-type {\n",
              "        vertical-align: middle;\n",
              "    }\n",
              "\n",
              "    .dataframe tbody tr th {\n",
              "        vertical-align: top;\n",
              "    }\n",
              "\n",
              "    .dataframe thead th {\n",
              "        text-align: right;\n",
              "    }\n",
              "</style>\n",
              "<table border=\"1\" class=\"dataframe\">\n",
              "  <thead>\n",
              "    <tr style=\"text-align: right;\">\n",
              "      <th></th>\n",
              "      <th>0</th>\n",
              "    </tr>\n",
              "  </thead>\n",
              "  <tbody>\n",
              "    <tr>\n",
              "      <th>Baltimore Income Stayed in Commuting Zone</th>\n",
              "      <td>29874.9</td>\n",
              "    </tr>\n",
              "    <tr>\n",
              "      <th>Baltimore Median Income</th>\n",
              "      <td>30955.3</td>\n",
              "    </tr>\n",
              "  </tbody>\n",
              "</table>\n",
              "</div>"
            ],
            "text/plain": [
              "                                                 0\n",
              "Baltimore Income Stayed in Commuting Zone  29874.9\n",
              "Baltimore Median Income                    30955.3"
            ]
          },
          "metadata": {
            "tags": []
          },
          "execution_count": 173
        }
      ]
    },
    {
      "cell_type": "code",
      "metadata": {
        "colab": {
          "base_uri": "https://localhost:8080/",
          "height": 111
        },
        "id": "tSl_fh1EqHRO",
        "outputId": "be764315-bc21-46c1-9637-db55722ffbe9"
      },
      "source": [
        "# preview\n",
        "df_avg_dc.head()"
      ],
      "execution_count": null,
      "outputs": [
        {
          "output_type": "execute_result",
          "data": {
            "text/html": [
              "<div>\n",
              "<style scoped>\n",
              "    .dataframe tbody tr th:only-of-type {\n",
              "        vertical-align: middle;\n",
              "    }\n",
              "\n",
              "    .dataframe tbody tr th {\n",
              "        vertical-align: top;\n",
              "    }\n",
              "\n",
              "    .dataframe thead th {\n",
              "        text-align: right;\n",
              "    }\n",
              "</style>\n",
              "<table border=\"1\" class=\"dataframe\">\n",
              "  <thead>\n",
              "    <tr style=\"text-align: right;\">\n",
              "      <th></th>\n",
              "      <th>0</th>\n",
              "    </tr>\n",
              "  </thead>\n",
              "  <tbody>\n",
              "    <tr>\n",
              "      <th>DC Income Stayed in Commuting Zone</th>\n",
              "      <td>34759</td>\n",
              "    </tr>\n",
              "    <tr>\n",
              "      <th>DC Median Income</th>\n",
              "      <td>35467.3</td>\n",
              "    </tr>\n",
              "  </tbody>\n",
              "</table>\n",
              "</div>"
            ],
            "text/plain": [
              "                                          0\n",
              "DC Income Stayed in Commuting Zone    34759\n",
              "DC Median Income                    35467.3"
            ]
          },
          "metadata": {
            "tags": []
          },
          "execution_count": 174
        }
      ]
    },
    {
      "cell_type": "code",
      "metadata": {
        "id": "KIXT-4QKqKUK"
      },
      "source": [
        "# making a list of labels\n",
        "dc_labels = df_avg_dc.index.to_list()\n",
        "\n",
        "# making a list of values to go with the labels\n",
        "dc_value1 = df_avg_dc[0].to_list()"
      ],
      "execution_count": null,
      "outputs": []
    },
    {
      "cell_type": "markdown",
      "metadata": {
        "id": "3vBzFTrAqoAw"
      },
      "source": [
        "## Visualizations"
      ]
    },
    {
      "cell_type": "markdown",
      "metadata": {
        "id": "B85GNncJwoXl"
      },
      "source": [
        "### Bar Graphs of Average Incomes"
      ]
    },
    {
      "cell_type": "code",
      "metadata": {
        "id": "r1OqZwFJqnCI"
      },
      "source": [
        "# creating a bar graph for the average values in each city\n",
        "avg_bar = px.bar(df_avg_bmore, x = df_avg_bmore.index, y = 0,\n",
        "                 title = \"Household Income (in same Commuting Zone) and Median Income in Baltimore City and Washington, D.C.\",\n",
        "                 labels = {\"0\" : \"Household Income ($)\"})"
      ],
      "execution_count": null,
      "outputs": []
    },
    {
      "cell_type": "code",
      "metadata": {
        "colab": {
          "base_uri": "https://localhost:8080/",
          "height": 542
        },
        "id": "Qw916jtErNOm",
        "outputId": "588f623a-222b-40f6-dbb2-df22a1c6207a"
      },
      "source": [
        "# previewing bar graph\n",
        "avg_bar"
      ],
      "execution_count": null,
      "outputs": [
        {
          "output_type": "display_data",
          "data": {
            "text/html": [
              "<html>\n",
              "<head><meta charset=\"utf-8\" /></head>\n",
              "<body>\n",
              "    <div>\n",
              "            <script src=\"https://cdnjs.cloudflare.com/ajax/libs/mathjax/2.7.5/MathJax.js?config=TeX-AMS-MML_SVG\"></script><script type=\"text/javascript\">if (window.MathJax) {MathJax.Hub.Config({SVG: {font: \"STIX-Web\"}});}</script>\n",
              "                <script type=\"text/javascript\">window.PlotlyConfig = {MathJaxConfig: 'local'};</script>\n",
              "        <script src=\"https://cdn.plot.ly/plotly-latest.min.js\"></script>    \n",
              "            <div id=\"d1e43da4-e5de-449c-bb5c-4ef37ce42d31\" class=\"plotly-graph-div\" style=\"height:525px; width:100%;\"></div>\n",
              "            <script type=\"text/javascript\">\n",
              "                \n",
              "                    window.PLOTLYENV=window.PLOTLYENV || {};\n",
              "                    \n",
              "                if (document.getElementById(\"d1e43da4-e5de-449c-bb5c-4ef37ce42d31\")) {\n",
              "                    Plotly.newPlot(\n",
              "                        'd1e43da4-e5de-449c-bb5c-4ef37ce42d31',\n",
              "                        [{\"alignmentgroup\": \"True\", \"hoverlabel\": {\"namelength\": 0}, \"hovertemplate\": \"x=%{x}<br>Household Income ($)=%{y}\", \"legendgroup\": \"\", \"marker\": {\"color\": \"#636efa\"}, \"name\": \"\", \"offsetgroup\": \"\", \"orientation\": \"v\", \"showlegend\": false, \"textposition\": \"auto\", \"type\": \"bar\", \"x\": [\"Baltimore Income Stayed in Commuting Zone\", \"Baltimore Median Income\"], \"xaxis\": \"x\", \"y\": [29874.91416309013, 30955.29184549356], \"yaxis\": \"y\"}],\n",
              "                        {\"barmode\": \"relative\", \"legend\": {\"tracegroupgap\": 0}, \"template\": {\"data\": {\"bar\": [{\"error_x\": {\"color\": \"#2a3f5f\"}, \"error_y\": {\"color\": \"#2a3f5f\"}, \"marker\": {\"line\": {\"color\": \"#E5ECF6\", \"width\": 0.5}}, \"type\": \"bar\"}], \"barpolar\": [{\"marker\": {\"line\": {\"color\": \"#E5ECF6\", \"width\": 0.5}}, \"type\": \"barpolar\"}], \"carpet\": [{\"aaxis\": {\"endlinecolor\": \"#2a3f5f\", \"gridcolor\": \"white\", \"linecolor\": \"white\", \"minorgridcolor\": \"white\", \"startlinecolor\": \"#2a3f5f\"}, \"baxis\": {\"endlinecolor\": \"#2a3f5f\", \"gridcolor\": \"white\", \"linecolor\": \"white\", \"minorgridcolor\": \"white\", \"startlinecolor\": \"#2a3f5f\"}, \"type\": \"carpet\"}], \"choropleth\": [{\"colorbar\": {\"outlinewidth\": 0, \"ticks\": \"\"}, \"type\": \"choropleth\"}], \"contour\": [{\"colorbar\": {\"outlinewidth\": 0, \"ticks\": \"\"}, \"colorscale\": [[0.0, \"#0d0887\"], [0.1111111111111111, \"#46039f\"], [0.2222222222222222, \"#7201a8\"], [0.3333333333333333, \"#9c179e\"], [0.4444444444444444, \"#bd3786\"], [0.5555555555555556, \"#d8576b\"], [0.6666666666666666, \"#ed7953\"], [0.7777777777777778, \"#fb9f3a\"], [0.8888888888888888, \"#fdca26\"], [1.0, \"#f0f921\"]], \"type\": \"contour\"}], \"contourcarpet\": [{\"colorbar\": {\"outlinewidth\": 0, \"ticks\": \"\"}, \"type\": \"contourcarpet\"}], \"heatmap\": [{\"colorbar\": {\"outlinewidth\": 0, \"ticks\": \"\"}, \"colorscale\": [[0.0, \"#0d0887\"], [0.1111111111111111, \"#46039f\"], [0.2222222222222222, \"#7201a8\"], [0.3333333333333333, \"#9c179e\"], [0.4444444444444444, \"#bd3786\"], [0.5555555555555556, \"#d8576b\"], [0.6666666666666666, \"#ed7953\"], [0.7777777777777778, \"#fb9f3a\"], [0.8888888888888888, \"#fdca26\"], [1.0, \"#f0f921\"]], \"type\": \"heatmap\"}], \"heatmapgl\": [{\"colorbar\": {\"outlinewidth\": 0, \"ticks\": \"\"}, \"colorscale\": [[0.0, \"#0d0887\"], [0.1111111111111111, \"#46039f\"], [0.2222222222222222, \"#7201a8\"], [0.3333333333333333, \"#9c179e\"], [0.4444444444444444, \"#bd3786\"], [0.5555555555555556, \"#d8576b\"], [0.6666666666666666, \"#ed7953\"], [0.7777777777777778, \"#fb9f3a\"], [0.8888888888888888, \"#fdca26\"], [1.0, \"#f0f921\"]], \"type\": \"heatmapgl\"}], \"histogram\": [{\"marker\": {\"colorbar\": {\"outlinewidth\": 0, \"ticks\": \"\"}}, \"type\": \"histogram\"}], \"histogram2d\": [{\"colorbar\": {\"outlinewidth\": 0, \"ticks\": \"\"}, \"colorscale\": [[0.0, \"#0d0887\"], [0.1111111111111111, \"#46039f\"], [0.2222222222222222, \"#7201a8\"], [0.3333333333333333, \"#9c179e\"], [0.4444444444444444, \"#bd3786\"], [0.5555555555555556, \"#d8576b\"], [0.6666666666666666, \"#ed7953\"], [0.7777777777777778, \"#fb9f3a\"], [0.8888888888888888, \"#fdca26\"], [1.0, \"#f0f921\"]], \"type\": \"histogram2d\"}], \"histogram2dcontour\": [{\"colorbar\": {\"outlinewidth\": 0, \"ticks\": \"\"}, \"colorscale\": [[0.0, \"#0d0887\"], [0.1111111111111111, \"#46039f\"], [0.2222222222222222, \"#7201a8\"], [0.3333333333333333, \"#9c179e\"], [0.4444444444444444, \"#bd3786\"], [0.5555555555555556, \"#d8576b\"], [0.6666666666666666, \"#ed7953\"], [0.7777777777777778, \"#fb9f3a\"], [0.8888888888888888, \"#fdca26\"], [1.0, \"#f0f921\"]], \"type\": \"histogram2dcontour\"}], \"mesh3d\": [{\"colorbar\": {\"outlinewidth\": 0, \"ticks\": \"\"}, \"type\": \"mesh3d\"}], \"parcoords\": [{\"line\": {\"colorbar\": {\"outlinewidth\": 0, \"ticks\": \"\"}}, \"type\": \"parcoords\"}], \"pie\": [{\"automargin\": true, \"type\": \"pie\"}], \"scatter\": [{\"marker\": {\"colorbar\": {\"outlinewidth\": 0, \"ticks\": \"\"}}, \"type\": \"scatter\"}], \"scatter3d\": [{\"line\": {\"colorbar\": {\"outlinewidth\": 0, \"ticks\": \"\"}}, \"marker\": {\"colorbar\": {\"outlinewidth\": 0, \"ticks\": \"\"}}, \"type\": \"scatter3d\"}], \"scattercarpet\": [{\"marker\": {\"colorbar\": {\"outlinewidth\": 0, \"ticks\": \"\"}}, \"type\": \"scattercarpet\"}], \"scattergeo\": [{\"marker\": {\"colorbar\": {\"outlinewidth\": 0, \"ticks\": \"\"}}, \"type\": \"scattergeo\"}], \"scattergl\": [{\"marker\": {\"colorbar\": {\"outlinewidth\": 0, \"ticks\": \"\"}}, \"type\": \"scattergl\"}], \"scattermapbox\": [{\"marker\": {\"colorbar\": {\"outlinewidth\": 0, \"ticks\": \"\"}}, \"type\": \"scattermapbox\"}], \"scatterpolar\": [{\"marker\": {\"colorbar\": {\"outlinewidth\": 0, \"ticks\": \"\"}}, \"type\": \"scatterpolar\"}], \"scatterpolargl\": [{\"marker\": {\"colorbar\": {\"outlinewidth\": 0, \"ticks\": \"\"}}, \"type\": \"scatterpolargl\"}], \"scatterternary\": [{\"marker\": {\"colorbar\": {\"outlinewidth\": 0, \"ticks\": \"\"}}, \"type\": \"scatterternary\"}], \"surface\": [{\"colorbar\": {\"outlinewidth\": 0, \"ticks\": \"\"}, \"colorscale\": [[0.0, \"#0d0887\"], [0.1111111111111111, \"#46039f\"], [0.2222222222222222, \"#7201a8\"], [0.3333333333333333, \"#9c179e\"], [0.4444444444444444, \"#bd3786\"], [0.5555555555555556, \"#d8576b\"], [0.6666666666666666, \"#ed7953\"], [0.7777777777777778, \"#fb9f3a\"], [0.8888888888888888, \"#fdca26\"], [1.0, \"#f0f921\"]], \"type\": \"surface\"}], \"table\": [{\"cells\": {\"fill\": {\"color\": \"#EBF0F8\"}, \"line\": {\"color\": \"white\"}}, \"header\": {\"fill\": {\"color\": \"#C8D4E3\"}, \"line\": {\"color\": \"white\"}}, \"type\": \"table\"}]}, \"layout\": {\"annotationdefaults\": {\"arrowcolor\": \"#2a3f5f\", \"arrowhead\": 0, \"arrowwidth\": 1}, \"coloraxis\": {\"colorbar\": {\"outlinewidth\": 0, \"ticks\": \"\"}}, \"colorscale\": {\"diverging\": [[0, \"#8e0152\"], [0.1, \"#c51b7d\"], [0.2, \"#de77ae\"], [0.3, \"#f1b6da\"], [0.4, \"#fde0ef\"], [0.5, \"#f7f7f7\"], [0.6, \"#e6f5d0\"], [0.7, \"#b8e186\"], [0.8, \"#7fbc41\"], [0.9, \"#4d9221\"], [1, \"#276419\"]], \"sequential\": [[0.0, \"#0d0887\"], [0.1111111111111111, \"#46039f\"], [0.2222222222222222, \"#7201a8\"], [0.3333333333333333, \"#9c179e\"], [0.4444444444444444, \"#bd3786\"], [0.5555555555555556, \"#d8576b\"], [0.6666666666666666, \"#ed7953\"], [0.7777777777777778, \"#fb9f3a\"], [0.8888888888888888, \"#fdca26\"], [1.0, \"#f0f921\"]], \"sequentialminus\": [[0.0, \"#0d0887\"], [0.1111111111111111, \"#46039f\"], [0.2222222222222222, \"#7201a8\"], [0.3333333333333333, \"#9c179e\"], [0.4444444444444444, \"#bd3786\"], [0.5555555555555556, \"#d8576b\"], [0.6666666666666666, \"#ed7953\"], [0.7777777777777778, \"#fb9f3a\"], [0.8888888888888888, \"#fdca26\"], [1.0, \"#f0f921\"]]}, \"colorway\": [\"#636efa\", \"#EF553B\", \"#00cc96\", \"#ab63fa\", \"#FFA15A\", \"#19d3f3\", \"#FF6692\", \"#B6E880\", \"#FF97FF\", \"#FECB52\"], \"font\": {\"color\": \"#2a3f5f\"}, \"geo\": {\"bgcolor\": \"white\", \"lakecolor\": \"white\", \"landcolor\": \"#E5ECF6\", \"showlakes\": true, \"showland\": true, \"subunitcolor\": \"white\"}, \"hoverlabel\": {\"align\": \"left\"}, \"hovermode\": \"closest\", \"mapbox\": {\"style\": \"light\"}, \"paper_bgcolor\": \"white\", \"plot_bgcolor\": \"#E5ECF6\", \"polar\": {\"angularaxis\": {\"gridcolor\": \"white\", \"linecolor\": \"white\", \"ticks\": \"\"}, \"bgcolor\": \"#E5ECF6\", \"radialaxis\": {\"gridcolor\": \"white\", \"linecolor\": \"white\", \"ticks\": \"\"}}, \"scene\": {\"xaxis\": {\"backgroundcolor\": \"#E5ECF6\", \"gridcolor\": \"white\", \"gridwidth\": 2, \"linecolor\": \"white\", \"showbackground\": true, \"ticks\": \"\", \"zerolinecolor\": \"white\"}, \"yaxis\": {\"backgroundcolor\": \"#E5ECF6\", \"gridcolor\": \"white\", \"gridwidth\": 2, \"linecolor\": \"white\", \"showbackground\": true, \"ticks\": \"\", \"zerolinecolor\": \"white\"}, \"zaxis\": {\"backgroundcolor\": \"#E5ECF6\", \"gridcolor\": \"white\", \"gridwidth\": 2, \"linecolor\": \"white\", \"showbackground\": true, \"ticks\": \"\", \"zerolinecolor\": \"white\"}}, \"shapedefaults\": {\"line\": {\"color\": \"#2a3f5f\"}}, \"ternary\": {\"aaxis\": {\"gridcolor\": \"white\", \"linecolor\": \"white\", \"ticks\": \"\"}, \"baxis\": {\"gridcolor\": \"white\", \"linecolor\": \"white\", \"ticks\": \"\"}, \"bgcolor\": \"#E5ECF6\", \"caxis\": {\"gridcolor\": \"white\", \"linecolor\": \"white\", \"ticks\": \"\"}}, \"title\": {\"x\": 0.05}, \"xaxis\": {\"automargin\": true, \"gridcolor\": \"white\", \"linecolor\": \"white\", \"ticks\": \"\", \"title\": {\"standoff\": 15}, \"zerolinecolor\": \"white\", \"zerolinewidth\": 2}, \"yaxis\": {\"automargin\": true, \"gridcolor\": \"white\", \"linecolor\": \"white\", \"ticks\": \"\", \"title\": {\"standoff\": 15}, \"zerolinecolor\": \"white\", \"zerolinewidth\": 2}}}, \"title\": {\"text\": \"Household Income (in same Commuting Zone) and Median Income in Baltimore City and Washington, D.C.\"}, \"xaxis\": {\"anchor\": \"y\", \"domain\": [0.0, 1.0], \"title\": {\"text\": \"x\"}}, \"yaxis\": {\"anchor\": \"x\", \"domain\": [0.0, 1.0], \"title\": {\"text\": \"Household Income ($)\"}}},\n",
              "                        {\"responsive\": true}\n",
              "                    ).then(function(){\n",
              "                            \n",
              "var gd = document.getElementById('d1e43da4-e5de-449c-bb5c-4ef37ce42d31');\n",
              "var x = new MutationObserver(function (mutations, observer) {{\n",
              "        var display = window.getComputedStyle(gd).display;\n",
              "        if (!display || display === 'none') {{\n",
              "            console.log([gd, 'removed!']);\n",
              "            Plotly.purge(gd);\n",
              "            observer.disconnect();\n",
              "        }}\n",
              "}});\n",
              "\n",
              "// Listen for the removal of the full notebook cells\n",
              "var notebookContainer = gd.closest('#notebook-container');\n",
              "if (notebookContainer) {{\n",
              "    x.observe(notebookContainer, {childList: true});\n",
              "}}\n",
              "\n",
              "// Listen for the clearing of the current output cell\n",
              "var outputEl = gd.closest('.output');\n",
              "if (outputEl) {{\n",
              "    x.observe(outputEl, {childList: true});\n",
              "}}\n",
              "\n",
              "                        })\n",
              "                };\n",
              "                \n",
              "            </script>\n",
              "        </div>\n",
              "</body>\n",
              "</html>"
            ]
          },
          "metadata": {
            "tags": []
          }
        }
      ]
    },
    {
      "cell_type": "code",
      "metadata": {
        "colab": {
          "base_uri": "https://localhost:8080/",
          "height": 542
        },
        "id": "LhypEsSTrP4o",
        "outputId": "b2d19abd-451a-46ab-e59d-6d07e140b094"
      },
      "source": [
        "# adding the DC average income values onto the bar graph\n",
        "avg_bar.add_bar(x = dc_labels, y = dc_value1)"
      ],
      "execution_count": null,
      "outputs": [
        {
          "output_type": "display_data",
          "data": {
            "text/html": [
              "<html>\n",
              "<head><meta charset=\"utf-8\" /></head>\n",
              "<body>\n",
              "    <div>\n",
              "            <script src=\"https://cdnjs.cloudflare.com/ajax/libs/mathjax/2.7.5/MathJax.js?config=TeX-AMS-MML_SVG\"></script><script type=\"text/javascript\">if (window.MathJax) {MathJax.Hub.Config({SVG: {font: \"STIX-Web\"}});}</script>\n",
              "                <script type=\"text/javascript\">window.PlotlyConfig = {MathJaxConfig: 'local'};</script>\n",
              "        <script src=\"https://cdn.plot.ly/plotly-latest.min.js\"></script>    \n",
              "            <div id=\"22eb74b8-3bd8-428c-8206-ca6bcbb607f7\" class=\"plotly-graph-div\" style=\"height:525px; width:100%;\"></div>\n",
              "            <script type=\"text/javascript\">\n",
              "                \n",
              "                    window.PLOTLYENV=window.PLOTLYENV || {};\n",
              "                    \n",
              "                if (document.getElementById(\"22eb74b8-3bd8-428c-8206-ca6bcbb607f7\")) {\n",
              "                    Plotly.newPlot(\n",
              "                        '22eb74b8-3bd8-428c-8206-ca6bcbb607f7',\n",
              "                        [{\"alignmentgroup\": \"True\", \"hoverlabel\": {\"namelength\": 0}, \"hovertemplate\": \"x=%{x}<br>Household Income ($)=%{y}\", \"legendgroup\": \"\", \"marker\": {\"color\": \"#636efa\"}, \"name\": \"\", \"offsetgroup\": \"\", \"orientation\": \"v\", \"showlegend\": false, \"textposition\": \"auto\", \"type\": \"bar\", \"x\": [\"Baltimore Income Stayed in Commuting Zone\", \"Baltimore Median Income\"], \"xaxis\": \"x\", \"y\": [29874.91416309013, 30955.29184549356], \"yaxis\": \"y\"}, {\"type\": \"bar\", \"x\": [\"DC Income Stayed in Commuting Zone\", \"DC Median Income\"], \"y\": [34758.96, 35467.32386363636]}],\n",
              "                        {\"barmode\": \"relative\", \"legend\": {\"tracegroupgap\": 0}, \"template\": {\"data\": {\"bar\": [{\"error_x\": {\"color\": \"#2a3f5f\"}, \"error_y\": {\"color\": \"#2a3f5f\"}, \"marker\": {\"line\": {\"color\": \"#E5ECF6\", \"width\": 0.5}}, \"type\": \"bar\"}], \"barpolar\": [{\"marker\": {\"line\": {\"color\": \"#E5ECF6\", \"width\": 0.5}}, \"type\": \"barpolar\"}], \"carpet\": [{\"aaxis\": {\"endlinecolor\": \"#2a3f5f\", \"gridcolor\": \"white\", \"linecolor\": \"white\", \"minorgridcolor\": \"white\", \"startlinecolor\": \"#2a3f5f\"}, \"baxis\": {\"endlinecolor\": \"#2a3f5f\", \"gridcolor\": \"white\", \"linecolor\": \"white\", \"minorgridcolor\": \"white\", \"startlinecolor\": \"#2a3f5f\"}, \"type\": \"carpet\"}], \"choropleth\": [{\"colorbar\": {\"outlinewidth\": 0, \"ticks\": \"\"}, \"type\": \"choropleth\"}], \"contour\": [{\"colorbar\": {\"outlinewidth\": 0, \"ticks\": \"\"}, \"colorscale\": [[0.0, \"#0d0887\"], [0.1111111111111111, \"#46039f\"], [0.2222222222222222, \"#7201a8\"], [0.3333333333333333, \"#9c179e\"], [0.4444444444444444, \"#bd3786\"], [0.5555555555555556, \"#d8576b\"], [0.6666666666666666, \"#ed7953\"], [0.7777777777777778, \"#fb9f3a\"], [0.8888888888888888, \"#fdca26\"], [1.0, \"#f0f921\"]], \"type\": \"contour\"}], \"contourcarpet\": [{\"colorbar\": {\"outlinewidth\": 0, \"ticks\": \"\"}, \"type\": \"contourcarpet\"}], \"heatmap\": [{\"colorbar\": {\"outlinewidth\": 0, \"ticks\": \"\"}, \"colorscale\": [[0.0, \"#0d0887\"], [0.1111111111111111, \"#46039f\"], [0.2222222222222222, \"#7201a8\"], [0.3333333333333333, \"#9c179e\"], [0.4444444444444444, \"#bd3786\"], [0.5555555555555556, \"#d8576b\"], [0.6666666666666666, \"#ed7953\"], [0.7777777777777778, \"#fb9f3a\"], [0.8888888888888888, \"#fdca26\"], [1.0, \"#f0f921\"]], \"type\": \"heatmap\"}], \"heatmapgl\": [{\"colorbar\": {\"outlinewidth\": 0, \"ticks\": \"\"}, \"colorscale\": [[0.0, \"#0d0887\"], [0.1111111111111111, \"#46039f\"], [0.2222222222222222, \"#7201a8\"], [0.3333333333333333, \"#9c179e\"], [0.4444444444444444, \"#bd3786\"], [0.5555555555555556, \"#d8576b\"], [0.6666666666666666, \"#ed7953\"], [0.7777777777777778, \"#fb9f3a\"], [0.8888888888888888, \"#fdca26\"], [1.0, \"#f0f921\"]], \"type\": \"heatmapgl\"}], \"histogram\": [{\"marker\": {\"colorbar\": {\"outlinewidth\": 0, \"ticks\": \"\"}}, \"type\": \"histogram\"}], \"histogram2d\": [{\"colorbar\": {\"outlinewidth\": 0, \"ticks\": \"\"}, \"colorscale\": [[0.0, \"#0d0887\"], [0.1111111111111111, \"#46039f\"], [0.2222222222222222, \"#7201a8\"], [0.3333333333333333, \"#9c179e\"], [0.4444444444444444, \"#bd3786\"], [0.5555555555555556, \"#d8576b\"], [0.6666666666666666, \"#ed7953\"], [0.7777777777777778, \"#fb9f3a\"], [0.8888888888888888, \"#fdca26\"], [1.0, \"#f0f921\"]], \"type\": \"histogram2d\"}], \"histogram2dcontour\": [{\"colorbar\": {\"outlinewidth\": 0, \"ticks\": \"\"}, \"colorscale\": [[0.0, \"#0d0887\"], [0.1111111111111111, \"#46039f\"], [0.2222222222222222, \"#7201a8\"], [0.3333333333333333, \"#9c179e\"], [0.4444444444444444, \"#bd3786\"], [0.5555555555555556, \"#d8576b\"], [0.6666666666666666, \"#ed7953\"], [0.7777777777777778, \"#fb9f3a\"], [0.8888888888888888, \"#fdca26\"], [1.0, \"#f0f921\"]], \"type\": \"histogram2dcontour\"}], \"mesh3d\": [{\"colorbar\": {\"outlinewidth\": 0, \"ticks\": \"\"}, \"type\": \"mesh3d\"}], \"parcoords\": [{\"line\": {\"colorbar\": {\"outlinewidth\": 0, \"ticks\": \"\"}}, \"type\": \"parcoords\"}], \"pie\": [{\"automargin\": true, \"type\": \"pie\"}], \"scatter\": [{\"marker\": {\"colorbar\": {\"outlinewidth\": 0, \"ticks\": \"\"}}, \"type\": \"scatter\"}], \"scatter3d\": [{\"line\": {\"colorbar\": {\"outlinewidth\": 0, \"ticks\": \"\"}}, \"marker\": {\"colorbar\": {\"outlinewidth\": 0, \"ticks\": \"\"}}, \"type\": \"scatter3d\"}], \"scattercarpet\": [{\"marker\": {\"colorbar\": {\"outlinewidth\": 0, \"ticks\": \"\"}}, \"type\": \"scattercarpet\"}], \"scattergeo\": [{\"marker\": {\"colorbar\": {\"outlinewidth\": 0, \"ticks\": \"\"}}, \"type\": \"scattergeo\"}], \"scattergl\": [{\"marker\": {\"colorbar\": {\"outlinewidth\": 0, \"ticks\": \"\"}}, \"type\": \"scattergl\"}], \"scattermapbox\": [{\"marker\": {\"colorbar\": {\"outlinewidth\": 0, \"ticks\": \"\"}}, \"type\": \"scattermapbox\"}], \"scatterpolar\": [{\"marker\": {\"colorbar\": {\"outlinewidth\": 0, \"ticks\": \"\"}}, \"type\": \"scatterpolar\"}], \"scatterpolargl\": [{\"marker\": {\"colorbar\": {\"outlinewidth\": 0, \"ticks\": \"\"}}, \"type\": \"scatterpolargl\"}], \"scatterternary\": [{\"marker\": {\"colorbar\": {\"outlinewidth\": 0, \"ticks\": \"\"}}, \"type\": \"scatterternary\"}], \"surface\": [{\"colorbar\": {\"outlinewidth\": 0, \"ticks\": \"\"}, \"colorscale\": [[0.0, \"#0d0887\"], [0.1111111111111111, \"#46039f\"], [0.2222222222222222, \"#7201a8\"], [0.3333333333333333, \"#9c179e\"], [0.4444444444444444, \"#bd3786\"], [0.5555555555555556, \"#d8576b\"], [0.6666666666666666, \"#ed7953\"], [0.7777777777777778, \"#fb9f3a\"], [0.8888888888888888, \"#fdca26\"], [1.0, \"#f0f921\"]], \"type\": \"surface\"}], \"table\": [{\"cells\": {\"fill\": {\"color\": \"#EBF0F8\"}, \"line\": {\"color\": \"white\"}}, \"header\": {\"fill\": {\"color\": \"#C8D4E3\"}, \"line\": {\"color\": \"white\"}}, \"type\": \"table\"}]}, \"layout\": {\"annotationdefaults\": {\"arrowcolor\": \"#2a3f5f\", \"arrowhead\": 0, \"arrowwidth\": 1}, \"coloraxis\": {\"colorbar\": {\"outlinewidth\": 0, \"ticks\": \"\"}}, \"colorscale\": {\"diverging\": [[0, \"#8e0152\"], [0.1, \"#c51b7d\"], [0.2, \"#de77ae\"], [0.3, \"#f1b6da\"], [0.4, \"#fde0ef\"], [0.5, \"#f7f7f7\"], [0.6, \"#e6f5d0\"], [0.7, \"#b8e186\"], [0.8, \"#7fbc41\"], [0.9, \"#4d9221\"], [1, \"#276419\"]], \"sequential\": [[0.0, \"#0d0887\"], [0.1111111111111111, \"#46039f\"], [0.2222222222222222, \"#7201a8\"], [0.3333333333333333, \"#9c179e\"], [0.4444444444444444, \"#bd3786\"], [0.5555555555555556, \"#d8576b\"], [0.6666666666666666, \"#ed7953\"], [0.7777777777777778, \"#fb9f3a\"], [0.8888888888888888, \"#fdca26\"], [1.0, \"#f0f921\"]], \"sequentialminus\": [[0.0, \"#0d0887\"], [0.1111111111111111, \"#46039f\"], [0.2222222222222222, \"#7201a8\"], [0.3333333333333333, \"#9c179e\"], [0.4444444444444444, \"#bd3786\"], [0.5555555555555556, \"#d8576b\"], [0.6666666666666666, \"#ed7953\"], [0.7777777777777778, \"#fb9f3a\"], [0.8888888888888888, \"#fdca26\"], [1.0, \"#f0f921\"]]}, \"colorway\": [\"#636efa\", \"#EF553B\", \"#00cc96\", \"#ab63fa\", \"#FFA15A\", \"#19d3f3\", \"#FF6692\", \"#B6E880\", \"#FF97FF\", \"#FECB52\"], \"font\": {\"color\": \"#2a3f5f\"}, \"geo\": {\"bgcolor\": \"white\", \"lakecolor\": \"white\", \"landcolor\": \"#E5ECF6\", \"showlakes\": true, \"showland\": true, \"subunitcolor\": \"white\"}, \"hoverlabel\": {\"align\": \"left\"}, \"hovermode\": \"closest\", \"mapbox\": {\"style\": \"light\"}, \"paper_bgcolor\": \"white\", \"plot_bgcolor\": \"#E5ECF6\", \"polar\": {\"angularaxis\": {\"gridcolor\": \"white\", \"linecolor\": \"white\", \"ticks\": \"\"}, \"bgcolor\": \"#E5ECF6\", \"radialaxis\": {\"gridcolor\": \"white\", \"linecolor\": \"white\", \"ticks\": \"\"}}, \"scene\": {\"xaxis\": {\"backgroundcolor\": \"#E5ECF6\", \"gridcolor\": \"white\", \"gridwidth\": 2, \"linecolor\": \"white\", \"showbackground\": true, \"ticks\": \"\", \"zerolinecolor\": \"white\"}, \"yaxis\": {\"backgroundcolor\": \"#E5ECF6\", \"gridcolor\": \"white\", \"gridwidth\": 2, \"linecolor\": \"white\", \"showbackground\": true, \"ticks\": \"\", \"zerolinecolor\": \"white\"}, \"zaxis\": {\"backgroundcolor\": \"#E5ECF6\", \"gridcolor\": \"white\", \"gridwidth\": 2, \"linecolor\": \"white\", \"showbackground\": true, \"ticks\": \"\", \"zerolinecolor\": \"white\"}}, \"shapedefaults\": {\"line\": {\"color\": \"#2a3f5f\"}}, \"ternary\": {\"aaxis\": {\"gridcolor\": \"white\", \"linecolor\": \"white\", \"ticks\": \"\"}, \"baxis\": {\"gridcolor\": \"white\", \"linecolor\": \"white\", \"ticks\": \"\"}, \"bgcolor\": \"#E5ECF6\", \"caxis\": {\"gridcolor\": \"white\", \"linecolor\": \"white\", \"ticks\": \"\"}}, \"title\": {\"x\": 0.05}, \"xaxis\": {\"automargin\": true, \"gridcolor\": \"white\", \"linecolor\": \"white\", \"ticks\": \"\", \"title\": {\"standoff\": 15}, \"zerolinecolor\": \"white\", \"zerolinewidth\": 2}, \"yaxis\": {\"automargin\": true, \"gridcolor\": \"white\", \"linecolor\": \"white\", \"ticks\": \"\", \"title\": {\"standoff\": 15}, \"zerolinecolor\": \"white\", \"zerolinewidth\": 2}}}, \"title\": {\"text\": \"Household Income (in same Commuting Zone) and Median Income in Baltimore City and Washington, D.C.\"}, \"xaxis\": {\"anchor\": \"y\", \"domain\": [0.0, 1.0], \"title\": {\"text\": \"x\"}}, \"yaxis\": {\"anchor\": \"x\", \"domain\": [0.0, 1.0], \"title\": {\"text\": \"Household Income ($)\"}}},\n",
              "                        {\"responsive\": true}\n",
              "                    ).then(function(){\n",
              "                            \n",
              "var gd = document.getElementById('22eb74b8-3bd8-428c-8206-ca6bcbb607f7');\n",
              "var x = new MutationObserver(function (mutations, observer) {{\n",
              "        var display = window.getComputedStyle(gd).display;\n",
              "        if (!display || display === 'none') {{\n",
              "            console.log([gd, 'removed!']);\n",
              "            Plotly.purge(gd);\n",
              "            observer.disconnect();\n",
              "        }}\n",
              "}});\n",
              "\n",
              "// Listen for the removal of the full notebook cells\n",
              "var notebookContainer = gd.closest('#notebook-container');\n",
              "if (notebookContainer) {{\n",
              "    x.observe(notebookContainer, {childList: true});\n",
              "}}\n",
              "\n",
              "// Listen for the clearing of the current output cell\n",
              "var outputEl = gd.closest('.output');\n",
              "if (outputEl) {{\n",
              "    x.observe(outputEl, {childList: true});\n",
              "}}\n",
              "\n",
              "                        })\n",
              "                };\n",
              "                \n",
              "            </script>\n",
              "        </div>\n",
              "</body>\n",
              "</html>"
            ]
          },
          "metadata": {
            "tags": []
          }
        }
      ]
    },
    {
      "cell_type": "markdown",
      "metadata": {
        "id": "JO8kCh7Cwt9Z"
      },
      "source": [
        "### Histograms based on Median Income"
      ]
    },
    {
      "cell_type": "code",
      "metadata": {
        "id": "FrgmYYH-uDTY"
      },
      "source": [
        "hist_bmore = px.histogram(df_baltimore_merge,\n",
        "                          x = \"Baltimore Median Income\",\n",
        "                          title = \"Distribution of Median Income in Baltimore City\",\n",
        "                          nbins = 16)"
      ],
      "execution_count": null,
      "outputs": []
    },
    {
      "cell_type": "code",
      "metadata": {
        "colab": {
          "base_uri": "https://localhost:8080/",
          "height": 542
        },
        "id": "4bZpBlR8xhE8",
        "outputId": "667910b1-1101-45df-e0f6-d9d7e439a89e"
      },
      "source": [
        "hist_bmore"
      ],
      "execution_count": null,
      "outputs": [
        {
          "output_type": "display_data",
          "data": {
            "text/html": [
              "<html>\n",
              "<head><meta charset=\"utf-8\" /></head>\n",
              "<body>\n",
              "    <div>\n",
              "            <script src=\"https://cdnjs.cloudflare.com/ajax/libs/mathjax/2.7.5/MathJax.js?config=TeX-AMS-MML_SVG\"></script><script type=\"text/javascript\">if (window.MathJax) {MathJax.Hub.Config({SVG: {font: \"STIX-Web\"}});}</script>\n",
              "                <script type=\"text/javascript\">window.PlotlyConfig = {MathJaxConfig: 'local'};</script>\n",
              "        <script src=\"https://cdn.plot.ly/plotly-latest.min.js\"></script>    \n",
              "            <div id=\"ef4fbb07-8080-49cf-84f4-81686a227395\" class=\"plotly-graph-div\" style=\"height:525px; width:100%;\"></div>\n",
              "            <script type=\"text/javascript\">\n",
              "                \n",
              "                    window.PLOTLYENV=window.PLOTLYENV || {};\n",
              "                    \n",
              "                if (document.getElementById(\"ef4fbb07-8080-49cf-84f4-81686a227395\")) {\n",
              "                    Plotly.newPlot(\n",
              "                        'ef4fbb07-8080-49cf-84f4-81686a227395',\n",
              "                        [{\"alignmentgroup\": \"True\", \"bingroup\": \"x\", \"hoverlabel\": {\"namelength\": 0}, \"hovertemplate\": \"Baltimore Median Income=%{x}<br>count=%{y}\", \"legendgroup\": \"\", \"marker\": {\"color\": \"#636efa\"}, \"name\": \"\", \"nbinsx\": 16, \"offsetgroup\": \"\", \"orientation\": \"v\", \"showlegend\": false, \"type\": \"histogram\", \"x\": [15979.0, 17213.0, 17306.0, 17386.0, 17650.0, 17709.0, 17902.0, 17979.0, 18168.0, 18192.0, 18429.0, 18894.0, 18919.0, 19019.0, 19122.0, 19279.0, 19350.0, 19370.0, 19381.0, 19401.0, 19401.0, 19404.0, 19473.0, 19477.0, 19493.0, 19532.0, 19724.0, 19744.0, 19764.0, 19802.0, 19809.0, 19867.0, 19924.0, 19977.0, 20019.0, 20089.0, 20233.0, 20270.0, 20279.0, 20286.0, 20316.0, 20471.0, 20617.0, 20760.0, 20803.0, 20829.0, 21017.0, 21057.0, 21169.0, 21278.0, 21377.0, 21395.0, 21579.0, 21588.0, 21607.0, 21614.0, 21642.0, 21648.0, 21705.0, 21714.0, 21938.0, 22158.0, 22207.0, 22384.0, 22384.0, 22463.0, 22687.0, 22748.0, 22834.0, 22834.0, 22835.0, 22926.0, 22959.0, 23004.0, 23006.0, 23009.0, 23070.0, 23225.0, 23275.0, 23281.0, 23304.0, 23598.0, 23612.0, 23654.0, 23701.0, 23702.0, 23921.0, 23998.0, 24081.0, 24252.0, 24301.0, 24373.0, 24400.0, 24561.0, 24644.0, 24776.0, 24827.0, 24977.0, 25018.0, 25104.0, 25123.0, 25184.0, 25348.0, 25381.0, 25562.0, 25637.0, 25652.0, 25836.0, 25970.0, 26152.0, 26262.0, 26563.0, 26589.0, 26669.0, 26952.0, 27223.0, 27472.0, 27607.0, 27754.0, 27936.0, 28019.0, 28134.0, 28147.0, 28615.0, 28901.0, 28912.0, 29083.0, 29687.0, 29898.0, 29990.0, 30027.0, 30040.0, 30166.0, 30370.0, 30843.0, 31059.0, 31108.0, 31168.0, 31213.0, 31306.0, 31367.0, 31454.0, 31533.0, 31559.0, 31759.0, 31896.0, 31912.0, 32121.0, 32278.0, 32483.0, 32553.0, 32706.0, 33047.0, 33057.0, 33161.0, 33259.0, 33273.0, 33293.0, 33599.0, 33660.0, 33943.0, 34074.0, 34100.0, 34584.0, 34637.0, 34707.0, 34720.0, 34779.0, 34843.0, 35359.0, 35464.0, 35768.0, 35857.0, 35963.0, 36213.0, 36983.0, 37194.0, 37546.0, 37731.0, 37879.0, 37885.0, 38111.0, 38140.0, 38207.0, 38508.0, 38765.0, 38793.0, 39001.0, 39123.0, 39237.0, 39259.0, 39299.0, 39473.0, 39841.0, 40272.0, 40369.0, 40535.0, 40634.0, 41890.0, 41953.0, 41988.0, 42492.0, 42635.0, 43493.0, 44105.0, 45165.0, 46668.0, 47577.0, 47909.0, 48007.0, 48236.0, 48375.0, 48714.0, 49708.0, 50529.0, 50598.0, 52863.0, 53304.0, 53447.0, 55609.0, 57223.0, 58546.0, 60560.0, 60859.0, 62714.0, 63507.0, 64049.0, 66907.0, 68340.0, 68851.0, 69634.0, 71859.0, 75513.0, null, null, null], \"xaxis\": \"x\", \"yaxis\": \"y\"}],\n",
              "                        {\"barmode\": \"relative\", \"legend\": {\"tracegroupgap\": 0}, \"template\": {\"data\": {\"bar\": [{\"error_x\": {\"color\": \"#2a3f5f\"}, \"error_y\": {\"color\": \"#2a3f5f\"}, \"marker\": {\"line\": {\"color\": \"#E5ECF6\", \"width\": 0.5}}, \"type\": \"bar\"}], \"barpolar\": [{\"marker\": {\"line\": {\"color\": \"#E5ECF6\", \"width\": 0.5}}, \"type\": \"barpolar\"}], \"carpet\": [{\"aaxis\": {\"endlinecolor\": \"#2a3f5f\", \"gridcolor\": \"white\", \"linecolor\": \"white\", \"minorgridcolor\": \"white\", \"startlinecolor\": \"#2a3f5f\"}, \"baxis\": {\"endlinecolor\": \"#2a3f5f\", \"gridcolor\": \"white\", \"linecolor\": \"white\", \"minorgridcolor\": \"white\", \"startlinecolor\": \"#2a3f5f\"}, \"type\": \"carpet\"}], \"choropleth\": [{\"colorbar\": {\"outlinewidth\": 0, \"ticks\": \"\"}, \"type\": \"choropleth\"}], \"contour\": [{\"colorbar\": {\"outlinewidth\": 0, \"ticks\": \"\"}, \"colorscale\": [[0.0, \"#0d0887\"], [0.1111111111111111, \"#46039f\"], [0.2222222222222222, \"#7201a8\"], [0.3333333333333333, \"#9c179e\"], [0.4444444444444444, \"#bd3786\"], [0.5555555555555556, \"#d8576b\"], [0.6666666666666666, \"#ed7953\"], [0.7777777777777778, \"#fb9f3a\"], [0.8888888888888888, \"#fdca26\"], [1.0, \"#f0f921\"]], \"type\": \"contour\"}], \"contourcarpet\": [{\"colorbar\": {\"outlinewidth\": 0, \"ticks\": \"\"}, \"type\": \"contourcarpet\"}], \"heatmap\": [{\"colorbar\": {\"outlinewidth\": 0, \"ticks\": \"\"}, \"colorscale\": [[0.0, \"#0d0887\"], [0.1111111111111111, \"#46039f\"], [0.2222222222222222, \"#7201a8\"], [0.3333333333333333, \"#9c179e\"], [0.4444444444444444, \"#bd3786\"], [0.5555555555555556, \"#d8576b\"], [0.6666666666666666, \"#ed7953\"], [0.7777777777777778, \"#fb9f3a\"], [0.8888888888888888, \"#fdca26\"], [1.0, \"#f0f921\"]], \"type\": \"heatmap\"}], \"heatmapgl\": [{\"colorbar\": {\"outlinewidth\": 0, \"ticks\": \"\"}, \"colorscale\": [[0.0, \"#0d0887\"], [0.1111111111111111, \"#46039f\"], [0.2222222222222222, \"#7201a8\"], [0.3333333333333333, \"#9c179e\"], [0.4444444444444444, \"#bd3786\"], [0.5555555555555556, \"#d8576b\"], [0.6666666666666666, \"#ed7953\"], [0.7777777777777778, \"#fb9f3a\"], [0.8888888888888888, \"#fdca26\"], [1.0, \"#f0f921\"]], \"type\": \"heatmapgl\"}], \"histogram\": [{\"marker\": {\"colorbar\": {\"outlinewidth\": 0, \"ticks\": \"\"}}, \"type\": \"histogram\"}], \"histogram2d\": [{\"colorbar\": {\"outlinewidth\": 0, \"ticks\": \"\"}, \"colorscale\": [[0.0, \"#0d0887\"], [0.1111111111111111, \"#46039f\"], [0.2222222222222222, \"#7201a8\"], [0.3333333333333333, \"#9c179e\"], [0.4444444444444444, \"#bd3786\"], [0.5555555555555556, \"#d8576b\"], [0.6666666666666666, \"#ed7953\"], [0.7777777777777778, \"#fb9f3a\"], [0.8888888888888888, \"#fdca26\"], [1.0, \"#f0f921\"]], \"type\": \"histogram2d\"}], \"histogram2dcontour\": [{\"colorbar\": {\"outlinewidth\": 0, \"ticks\": \"\"}, \"colorscale\": [[0.0, \"#0d0887\"], [0.1111111111111111, \"#46039f\"], [0.2222222222222222, \"#7201a8\"], [0.3333333333333333, \"#9c179e\"], [0.4444444444444444, \"#bd3786\"], [0.5555555555555556, \"#d8576b\"], [0.6666666666666666, \"#ed7953\"], [0.7777777777777778, \"#fb9f3a\"], [0.8888888888888888, \"#fdca26\"], [1.0, \"#f0f921\"]], \"type\": \"histogram2dcontour\"}], \"mesh3d\": [{\"colorbar\": {\"outlinewidth\": 0, \"ticks\": \"\"}, \"type\": \"mesh3d\"}], \"parcoords\": [{\"line\": {\"colorbar\": {\"outlinewidth\": 0, \"ticks\": \"\"}}, \"type\": \"parcoords\"}], \"pie\": [{\"automargin\": true, \"type\": \"pie\"}], \"scatter\": [{\"marker\": {\"colorbar\": {\"outlinewidth\": 0, \"ticks\": \"\"}}, \"type\": \"scatter\"}], \"scatter3d\": [{\"line\": {\"colorbar\": {\"outlinewidth\": 0, \"ticks\": \"\"}}, \"marker\": {\"colorbar\": {\"outlinewidth\": 0, \"ticks\": \"\"}}, \"type\": \"scatter3d\"}], \"scattercarpet\": [{\"marker\": {\"colorbar\": {\"outlinewidth\": 0, \"ticks\": \"\"}}, \"type\": \"scattercarpet\"}], \"scattergeo\": [{\"marker\": {\"colorbar\": {\"outlinewidth\": 0, \"ticks\": \"\"}}, \"type\": \"scattergeo\"}], \"scattergl\": [{\"marker\": {\"colorbar\": {\"outlinewidth\": 0, \"ticks\": \"\"}}, \"type\": \"scattergl\"}], \"scattermapbox\": [{\"marker\": {\"colorbar\": {\"outlinewidth\": 0, \"ticks\": \"\"}}, \"type\": \"scattermapbox\"}], \"scatterpolar\": [{\"marker\": {\"colorbar\": {\"outlinewidth\": 0, \"ticks\": \"\"}}, \"type\": \"scatterpolar\"}], \"scatterpolargl\": [{\"marker\": {\"colorbar\": {\"outlinewidth\": 0, \"ticks\": \"\"}}, \"type\": \"scatterpolargl\"}], \"scatterternary\": [{\"marker\": {\"colorbar\": {\"outlinewidth\": 0, \"ticks\": \"\"}}, \"type\": \"scatterternary\"}], \"surface\": [{\"colorbar\": {\"outlinewidth\": 0, \"ticks\": \"\"}, \"colorscale\": [[0.0, \"#0d0887\"], [0.1111111111111111, \"#46039f\"], [0.2222222222222222, \"#7201a8\"], [0.3333333333333333, \"#9c179e\"], [0.4444444444444444, \"#bd3786\"], [0.5555555555555556, \"#d8576b\"], [0.6666666666666666, \"#ed7953\"], [0.7777777777777778, \"#fb9f3a\"], [0.8888888888888888, \"#fdca26\"], [1.0, \"#f0f921\"]], \"type\": \"surface\"}], \"table\": [{\"cells\": {\"fill\": {\"color\": \"#EBF0F8\"}, \"line\": {\"color\": \"white\"}}, \"header\": {\"fill\": {\"color\": \"#C8D4E3\"}, \"line\": {\"color\": \"white\"}}, \"type\": \"table\"}]}, \"layout\": {\"annotationdefaults\": {\"arrowcolor\": \"#2a3f5f\", \"arrowhead\": 0, \"arrowwidth\": 1}, \"coloraxis\": {\"colorbar\": {\"outlinewidth\": 0, \"ticks\": \"\"}}, \"colorscale\": {\"diverging\": [[0, \"#8e0152\"], [0.1, \"#c51b7d\"], [0.2, \"#de77ae\"], [0.3, \"#f1b6da\"], [0.4, \"#fde0ef\"], [0.5, \"#f7f7f7\"], [0.6, \"#e6f5d0\"], [0.7, \"#b8e186\"], [0.8, \"#7fbc41\"], [0.9, \"#4d9221\"], [1, \"#276419\"]], \"sequential\": [[0.0, \"#0d0887\"], [0.1111111111111111, \"#46039f\"], [0.2222222222222222, \"#7201a8\"], [0.3333333333333333, \"#9c179e\"], [0.4444444444444444, \"#bd3786\"], [0.5555555555555556, \"#d8576b\"], [0.6666666666666666, \"#ed7953\"], [0.7777777777777778, \"#fb9f3a\"], [0.8888888888888888, \"#fdca26\"], [1.0, \"#f0f921\"]], \"sequentialminus\": [[0.0, \"#0d0887\"], [0.1111111111111111, \"#46039f\"], [0.2222222222222222, \"#7201a8\"], [0.3333333333333333, \"#9c179e\"], [0.4444444444444444, \"#bd3786\"], [0.5555555555555556, \"#d8576b\"], [0.6666666666666666, \"#ed7953\"], [0.7777777777777778, \"#fb9f3a\"], [0.8888888888888888, \"#fdca26\"], [1.0, \"#f0f921\"]]}, \"colorway\": [\"#636efa\", \"#EF553B\", \"#00cc96\", \"#ab63fa\", \"#FFA15A\", \"#19d3f3\", \"#FF6692\", \"#B6E880\", \"#FF97FF\", \"#FECB52\"], \"font\": {\"color\": \"#2a3f5f\"}, \"geo\": {\"bgcolor\": \"white\", \"lakecolor\": \"white\", \"landcolor\": \"#E5ECF6\", \"showlakes\": true, \"showland\": true, \"subunitcolor\": \"white\"}, \"hoverlabel\": {\"align\": \"left\"}, \"hovermode\": \"closest\", \"mapbox\": {\"style\": \"light\"}, \"paper_bgcolor\": \"white\", \"plot_bgcolor\": \"#E5ECF6\", \"polar\": {\"angularaxis\": {\"gridcolor\": \"white\", \"linecolor\": \"white\", \"ticks\": \"\"}, \"bgcolor\": \"#E5ECF6\", \"radialaxis\": {\"gridcolor\": \"white\", \"linecolor\": \"white\", \"ticks\": \"\"}}, \"scene\": {\"xaxis\": {\"backgroundcolor\": \"#E5ECF6\", \"gridcolor\": \"white\", \"gridwidth\": 2, \"linecolor\": \"white\", \"showbackground\": true, \"ticks\": \"\", \"zerolinecolor\": \"white\"}, \"yaxis\": {\"backgroundcolor\": \"#E5ECF6\", \"gridcolor\": \"white\", \"gridwidth\": 2, \"linecolor\": \"white\", \"showbackground\": true, \"ticks\": \"\", \"zerolinecolor\": \"white\"}, \"zaxis\": {\"backgroundcolor\": \"#E5ECF6\", \"gridcolor\": \"white\", \"gridwidth\": 2, \"linecolor\": \"white\", \"showbackground\": true, \"ticks\": \"\", \"zerolinecolor\": \"white\"}}, \"shapedefaults\": {\"line\": {\"color\": \"#2a3f5f\"}}, \"ternary\": {\"aaxis\": {\"gridcolor\": \"white\", \"linecolor\": \"white\", \"ticks\": \"\"}, \"baxis\": {\"gridcolor\": \"white\", \"linecolor\": \"white\", \"ticks\": \"\"}, \"bgcolor\": \"#E5ECF6\", \"caxis\": {\"gridcolor\": \"white\", \"linecolor\": \"white\", \"ticks\": \"\"}}, \"title\": {\"x\": 0.05}, \"xaxis\": {\"automargin\": true, \"gridcolor\": \"white\", \"linecolor\": \"white\", \"ticks\": \"\", \"title\": {\"standoff\": 15}, \"zerolinecolor\": \"white\", \"zerolinewidth\": 2}, \"yaxis\": {\"automargin\": true, \"gridcolor\": \"white\", \"linecolor\": \"white\", \"ticks\": \"\", \"title\": {\"standoff\": 15}, \"zerolinecolor\": \"white\", \"zerolinewidth\": 2}}}, \"title\": {\"text\": \"Distribution of Median Income in Baltimore City\"}, \"xaxis\": {\"anchor\": \"y\", \"domain\": [0.0, 1.0], \"title\": {\"text\": \"Baltimore Median Income\"}}, \"yaxis\": {\"anchor\": \"x\", \"domain\": [0.0, 1.0], \"title\": {\"text\": \"count\"}}},\n",
              "                        {\"responsive\": true}\n",
              "                    ).then(function(){\n",
              "                            \n",
              "var gd = document.getElementById('ef4fbb07-8080-49cf-84f4-81686a227395');\n",
              "var x = new MutationObserver(function (mutations, observer) {{\n",
              "        var display = window.getComputedStyle(gd).display;\n",
              "        if (!display || display === 'none') {{\n",
              "            console.log([gd, 'removed!']);\n",
              "            Plotly.purge(gd);\n",
              "            observer.disconnect();\n",
              "        }}\n",
              "}});\n",
              "\n",
              "// Listen for the removal of the full notebook cells\n",
              "var notebookContainer = gd.closest('#notebook-container');\n",
              "if (notebookContainer) {{\n",
              "    x.observe(notebookContainer, {childList: true});\n",
              "}}\n",
              "\n",
              "// Listen for the clearing of the current output cell\n",
              "var outputEl = gd.closest('.output');\n",
              "if (outputEl) {{\n",
              "    x.observe(outputEl, {childList: true});\n",
              "}}\n",
              "\n",
              "                        })\n",
              "                };\n",
              "                \n",
              "            </script>\n",
              "        </div>\n",
              "</body>\n",
              "</html>"
            ]
          },
          "metadata": {
            "tags": []
          }
        }
      ]
    },
    {
      "cell_type": "code",
      "metadata": {
        "id": "ihoNI75_xiiW"
      },
      "source": [
        "hist_dc = px.histogram(df_dc_merge,\n",
        "                       x = \"DC Median Income\",\n",
        "                       title = \"Distribution of Median Income in Washington D.C.\",\n",
        "                       nbins = 16)"
      ],
      "execution_count": null,
      "outputs": []
    },
    {
      "cell_type": "code",
      "metadata": {
        "colab": {
          "base_uri": "https://localhost:8080/",
          "height": 542
        },
        "id": "nnMFi1Kox_rE",
        "outputId": "c91ec0bf-8f33-4286-d167-d2732346ae84"
      },
      "source": [
        "hist_dc"
      ],
      "execution_count": null,
      "outputs": [
        {
          "output_type": "display_data",
          "data": {
            "text/html": [
              "<html>\n",
              "<head><meta charset=\"utf-8\" /></head>\n",
              "<body>\n",
              "    <div>\n",
              "            <script src=\"https://cdnjs.cloudflare.com/ajax/libs/mathjax/2.7.5/MathJax.js?config=TeX-AMS-MML_SVG\"></script><script type=\"text/javascript\">if (window.MathJax) {MathJax.Hub.Config({SVG: {font: \"STIX-Web\"}});}</script>\n",
              "                <script type=\"text/javascript\">window.PlotlyConfig = {MathJaxConfig: 'local'};</script>\n",
              "        <script src=\"https://cdn.plot.ly/plotly-latest.min.js\"></script>    \n",
              "            <div id=\"e0f195b6-8870-472c-af33-6f86b4407c25\" class=\"plotly-graph-div\" style=\"height:525px; width:100%;\"></div>\n",
              "            <script type=\"text/javascript\">\n",
              "                \n",
              "                    window.PLOTLYENV=window.PLOTLYENV || {};\n",
              "                    \n",
              "                if (document.getElementById(\"e0f195b6-8870-472c-af33-6f86b4407c25\")) {\n",
              "                    Plotly.newPlot(\n",
              "                        'e0f195b6-8870-472c-af33-6f86b4407c25',\n",
              "                        [{\"alignmentgroup\": \"True\", \"bingroup\": \"x\", \"hoverlabel\": {\"namelength\": 0}, \"hovertemplate\": \"DC Median Income=%{x}<br>count=%{y}\", \"legendgroup\": \"\", \"marker\": {\"color\": \"#636efa\"}, \"name\": \"\", \"nbinsx\": 16, \"offsetgroup\": \"\", \"orientation\": \"v\", \"showlegend\": false, \"type\": \"histogram\", \"x\": [19249.0, 19624.0, 19826.0, 20035.0, 20126.0, 20226.0, 21185.0, 21338.0, 21593.0, 21724.0, 21870.0, 22003.0, 22043.0, 22165.0, 22388.0, 22469.0, 22611.0, 22764.0, 22845.0, 22845.0, 23046.0, 23073.0, 23115.0, 23147.0, 23193.0, 23332.0, 23463.0, 23601.0, 23860.0, 23906.0, 24052.0, 24315.0, 24502.0, 24567.0, 24682.0, 24879.0, 24938.0, 24990.0, 25025.0, 25046.0, 25186.0, 25532.0, 25567.0, 25632.0, 25671.0, 25745.0, 25786.0, 25840.0, 25855.0, 25884.0, 26024.0, 26076.0, 26088.0, 26301.0, 26514.0, 26539.0, 26636.0, 26746.0, 26783.0, 26909.0, 26973.0, 27029.0, 27236.0, 27337.0, 27420.0, 27422.0, 27486.0, 27494.0, 27557.0, 27562.0, 27635.0, 28400.0, 28439.0, 28486.0, 28662.0, 28710.0, 28789.0, 28876.0, 28939.0, 29017.0, 29090.0, 29188.0, 29288.0, 29366.0, 29414.0, 29475.0, 29573.0, 30136.0, 30476.0, 30500.0, 30554.0, 30830.0, 31359.0, 31363.0, 31426.0, 31477.0, 31946.0, 31964.0, 32001.0, 32004.0, 32363.0, 32507.0, 32874.0, 32976.0, 33271.0, 33277.0, 33419.0, 33422.0, 33427.0, 33591.0, 33625.0, 34013.0, 34124.0, 34540.0, 34579.0, 34842.0, 34861.0, 35000.0, 35281.0, 35357.0, 35404.0, 35677.0, 35735.0, 36346.0, 36434.0, 36846.0, 37631.0, 38103.0, 39148.0, 39189.0, 39926.0, 39995.0, 40062.0, 41114.0, 41900.0, 42918.0, 43626.0, 43637.0, 44315.0, 46156.0, 46439.0, 46616.0, 47633.0, 48611.0, 48691.0, 49372.0, 50789.0, 50809.0, 51491.0, 51522.0, 52999.0, 54032.0, 56963.0, 58497.0, 58819.0, 59089.0, 59581.0, 59671.0, 61417.0, 61798.0, 62735.0, 64425.0, 64748.0, 65276.0, 66585.0, 66787.0, 67108.0, 67215.0, 68400.0, 68453.0, 68563.0, 69006.0, 69095.0, 69688.0, 72459.0, 83482.0, null, null, null], \"xaxis\": \"x\", \"yaxis\": \"y\"}],\n",
              "                        {\"barmode\": \"relative\", \"legend\": {\"tracegroupgap\": 0}, \"template\": {\"data\": {\"bar\": [{\"error_x\": {\"color\": \"#2a3f5f\"}, \"error_y\": {\"color\": \"#2a3f5f\"}, \"marker\": {\"line\": {\"color\": \"#E5ECF6\", \"width\": 0.5}}, \"type\": \"bar\"}], \"barpolar\": [{\"marker\": {\"line\": {\"color\": \"#E5ECF6\", \"width\": 0.5}}, \"type\": \"barpolar\"}], \"carpet\": [{\"aaxis\": {\"endlinecolor\": \"#2a3f5f\", \"gridcolor\": \"white\", \"linecolor\": \"white\", \"minorgridcolor\": \"white\", \"startlinecolor\": \"#2a3f5f\"}, \"baxis\": {\"endlinecolor\": \"#2a3f5f\", \"gridcolor\": \"white\", \"linecolor\": \"white\", \"minorgridcolor\": \"white\", \"startlinecolor\": \"#2a3f5f\"}, \"type\": \"carpet\"}], \"choropleth\": [{\"colorbar\": {\"outlinewidth\": 0, \"ticks\": \"\"}, \"type\": \"choropleth\"}], \"contour\": [{\"colorbar\": {\"outlinewidth\": 0, \"ticks\": \"\"}, \"colorscale\": [[0.0, \"#0d0887\"], [0.1111111111111111, \"#46039f\"], [0.2222222222222222, \"#7201a8\"], [0.3333333333333333, \"#9c179e\"], [0.4444444444444444, \"#bd3786\"], [0.5555555555555556, \"#d8576b\"], [0.6666666666666666, \"#ed7953\"], [0.7777777777777778, \"#fb9f3a\"], [0.8888888888888888, \"#fdca26\"], [1.0, \"#f0f921\"]], \"type\": \"contour\"}], \"contourcarpet\": [{\"colorbar\": {\"outlinewidth\": 0, \"ticks\": \"\"}, \"type\": \"contourcarpet\"}], \"heatmap\": [{\"colorbar\": {\"outlinewidth\": 0, \"ticks\": \"\"}, \"colorscale\": [[0.0, \"#0d0887\"], [0.1111111111111111, \"#46039f\"], [0.2222222222222222, \"#7201a8\"], [0.3333333333333333, \"#9c179e\"], [0.4444444444444444, \"#bd3786\"], [0.5555555555555556, \"#d8576b\"], [0.6666666666666666, \"#ed7953\"], [0.7777777777777778, \"#fb9f3a\"], [0.8888888888888888, \"#fdca26\"], [1.0, \"#f0f921\"]], \"type\": \"heatmap\"}], \"heatmapgl\": [{\"colorbar\": {\"outlinewidth\": 0, \"ticks\": \"\"}, \"colorscale\": [[0.0, \"#0d0887\"], [0.1111111111111111, \"#46039f\"], [0.2222222222222222, \"#7201a8\"], [0.3333333333333333, \"#9c179e\"], [0.4444444444444444, \"#bd3786\"], [0.5555555555555556, \"#d8576b\"], [0.6666666666666666, \"#ed7953\"], [0.7777777777777778, \"#fb9f3a\"], [0.8888888888888888, \"#fdca26\"], [1.0, \"#f0f921\"]], \"type\": \"heatmapgl\"}], \"histogram\": [{\"marker\": {\"colorbar\": {\"outlinewidth\": 0, \"ticks\": \"\"}}, \"type\": \"histogram\"}], \"histogram2d\": [{\"colorbar\": {\"outlinewidth\": 0, \"ticks\": \"\"}, \"colorscale\": [[0.0, \"#0d0887\"], [0.1111111111111111, \"#46039f\"], [0.2222222222222222, \"#7201a8\"], [0.3333333333333333, \"#9c179e\"], [0.4444444444444444, \"#bd3786\"], [0.5555555555555556, \"#d8576b\"], [0.6666666666666666, \"#ed7953\"], [0.7777777777777778, \"#fb9f3a\"], [0.8888888888888888, \"#fdca26\"], [1.0, \"#f0f921\"]], \"type\": \"histogram2d\"}], \"histogram2dcontour\": [{\"colorbar\": {\"outlinewidth\": 0, \"ticks\": \"\"}, \"colorscale\": [[0.0, \"#0d0887\"], [0.1111111111111111, \"#46039f\"], [0.2222222222222222, \"#7201a8\"], [0.3333333333333333, \"#9c179e\"], [0.4444444444444444, \"#bd3786\"], [0.5555555555555556, \"#d8576b\"], [0.6666666666666666, \"#ed7953\"], [0.7777777777777778, \"#fb9f3a\"], [0.8888888888888888, \"#fdca26\"], [1.0, \"#f0f921\"]], \"type\": \"histogram2dcontour\"}], \"mesh3d\": [{\"colorbar\": {\"outlinewidth\": 0, \"ticks\": \"\"}, \"type\": \"mesh3d\"}], \"parcoords\": [{\"line\": {\"colorbar\": {\"outlinewidth\": 0, \"ticks\": \"\"}}, \"type\": \"parcoords\"}], \"pie\": [{\"automargin\": true, \"type\": \"pie\"}], \"scatter\": [{\"marker\": {\"colorbar\": {\"outlinewidth\": 0, \"ticks\": \"\"}}, \"type\": \"scatter\"}], \"scatter3d\": [{\"line\": {\"colorbar\": {\"outlinewidth\": 0, \"ticks\": \"\"}}, \"marker\": {\"colorbar\": {\"outlinewidth\": 0, \"ticks\": \"\"}}, \"type\": \"scatter3d\"}], \"scattercarpet\": [{\"marker\": {\"colorbar\": {\"outlinewidth\": 0, \"ticks\": \"\"}}, \"type\": \"scattercarpet\"}], \"scattergeo\": [{\"marker\": {\"colorbar\": {\"outlinewidth\": 0, \"ticks\": \"\"}}, \"type\": \"scattergeo\"}], \"scattergl\": [{\"marker\": {\"colorbar\": {\"outlinewidth\": 0, \"ticks\": \"\"}}, \"type\": \"scattergl\"}], \"scattermapbox\": [{\"marker\": {\"colorbar\": {\"outlinewidth\": 0, \"ticks\": \"\"}}, \"type\": \"scattermapbox\"}], \"scatterpolar\": [{\"marker\": {\"colorbar\": {\"outlinewidth\": 0, \"ticks\": \"\"}}, \"type\": \"scatterpolar\"}], \"scatterpolargl\": [{\"marker\": {\"colorbar\": {\"outlinewidth\": 0, \"ticks\": \"\"}}, \"type\": \"scatterpolargl\"}], \"scatterternary\": [{\"marker\": {\"colorbar\": {\"outlinewidth\": 0, \"ticks\": \"\"}}, \"type\": \"scatterternary\"}], \"surface\": [{\"colorbar\": {\"outlinewidth\": 0, \"ticks\": \"\"}, \"colorscale\": [[0.0, \"#0d0887\"], [0.1111111111111111, \"#46039f\"], [0.2222222222222222, \"#7201a8\"], [0.3333333333333333, \"#9c179e\"], [0.4444444444444444, \"#bd3786\"], [0.5555555555555556, \"#d8576b\"], [0.6666666666666666, \"#ed7953\"], [0.7777777777777778, \"#fb9f3a\"], [0.8888888888888888, \"#fdca26\"], [1.0, \"#f0f921\"]], \"type\": \"surface\"}], \"table\": [{\"cells\": {\"fill\": {\"color\": \"#EBF0F8\"}, \"line\": {\"color\": \"white\"}}, \"header\": {\"fill\": {\"color\": \"#C8D4E3\"}, \"line\": {\"color\": \"white\"}}, \"type\": \"table\"}]}, \"layout\": {\"annotationdefaults\": {\"arrowcolor\": \"#2a3f5f\", \"arrowhead\": 0, \"arrowwidth\": 1}, \"coloraxis\": {\"colorbar\": {\"outlinewidth\": 0, \"ticks\": \"\"}}, \"colorscale\": {\"diverging\": [[0, \"#8e0152\"], [0.1, \"#c51b7d\"], [0.2, \"#de77ae\"], [0.3, \"#f1b6da\"], [0.4, \"#fde0ef\"], [0.5, \"#f7f7f7\"], [0.6, \"#e6f5d0\"], [0.7, \"#b8e186\"], [0.8, \"#7fbc41\"], [0.9, \"#4d9221\"], [1, \"#276419\"]], \"sequential\": [[0.0, \"#0d0887\"], [0.1111111111111111, \"#46039f\"], [0.2222222222222222, \"#7201a8\"], [0.3333333333333333, \"#9c179e\"], [0.4444444444444444, \"#bd3786\"], [0.5555555555555556, \"#d8576b\"], [0.6666666666666666, \"#ed7953\"], [0.7777777777777778, \"#fb9f3a\"], [0.8888888888888888, \"#fdca26\"], [1.0, \"#f0f921\"]], \"sequentialminus\": [[0.0, \"#0d0887\"], [0.1111111111111111, \"#46039f\"], [0.2222222222222222, \"#7201a8\"], [0.3333333333333333, \"#9c179e\"], [0.4444444444444444, \"#bd3786\"], [0.5555555555555556, \"#d8576b\"], [0.6666666666666666, \"#ed7953\"], [0.7777777777777778, \"#fb9f3a\"], [0.8888888888888888, \"#fdca26\"], [1.0, \"#f0f921\"]]}, \"colorway\": [\"#636efa\", \"#EF553B\", \"#00cc96\", \"#ab63fa\", \"#FFA15A\", \"#19d3f3\", \"#FF6692\", \"#B6E880\", \"#FF97FF\", \"#FECB52\"], \"font\": {\"color\": \"#2a3f5f\"}, \"geo\": {\"bgcolor\": \"white\", \"lakecolor\": \"white\", \"landcolor\": \"#E5ECF6\", \"showlakes\": true, \"showland\": true, \"subunitcolor\": \"white\"}, \"hoverlabel\": {\"align\": \"left\"}, \"hovermode\": \"closest\", \"mapbox\": {\"style\": \"light\"}, \"paper_bgcolor\": \"white\", \"plot_bgcolor\": \"#E5ECF6\", \"polar\": {\"angularaxis\": {\"gridcolor\": \"white\", \"linecolor\": \"white\", \"ticks\": \"\"}, \"bgcolor\": \"#E5ECF6\", \"radialaxis\": {\"gridcolor\": \"white\", \"linecolor\": \"white\", \"ticks\": \"\"}}, \"scene\": {\"xaxis\": {\"backgroundcolor\": \"#E5ECF6\", \"gridcolor\": \"white\", \"gridwidth\": 2, \"linecolor\": \"white\", \"showbackground\": true, \"ticks\": \"\", \"zerolinecolor\": \"white\"}, \"yaxis\": {\"backgroundcolor\": \"#E5ECF6\", \"gridcolor\": \"white\", \"gridwidth\": 2, \"linecolor\": \"white\", \"showbackground\": true, \"ticks\": \"\", \"zerolinecolor\": \"white\"}, \"zaxis\": {\"backgroundcolor\": \"#E5ECF6\", \"gridcolor\": \"white\", \"gridwidth\": 2, \"linecolor\": \"white\", \"showbackground\": true, \"ticks\": \"\", \"zerolinecolor\": \"white\"}}, \"shapedefaults\": {\"line\": {\"color\": \"#2a3f5f\"}}, \"ternary\": {\"aaxis\": {\"gridcolor\": \"white\", \"linecolor\": \"white\", \"ticks\": \"\"}, \"baxis\": {\"gridcolor\": \"white\", \"linecolor\": \"white\", \"ticks\": \"\"}, \"bgcolor\": \"#E5ECF6\", \"caxis\": {\"gridcolor\": \"white\", \"linecolor\": \"white\", \"ticks\": \"\"}}, \"title\": {\"x\": 0.05}, \"xaxis\": {\"automargin\": true, \"gridcolor\": \"white\", \"linecolor\": \"white\", \"ticks\": \"\", \"title\": {\"standoff\": 15}, \"zerolinecolor\": \"white\", \"zerolinewidth\": 2}, \"yaxis\": {\"automargin\": true, \"gridcolor\": \"white\", \"linecolor\": \"white\", \"ticks\": \"\", \"title\": {\"standoff\": 15}, \"zerolinecolor\": \"white\", \"zerolinewidth\": 2}}}, \"title\": {\"text\": \"Distribution of Median Income in Washington D.C.\"}, \"xaxis\": {\"anchor\": \"y\", \"domain\": [0.0, 1.0], \"title\": {\"text\": \"DC Median Income\"}}, \"yaxis\": {\"anchor\": \"x\", \"domain\": [0.0, 1.0], \"title\": {\"text\": \"count\"}}},\n",
              "                        {\"responsive\": true}\n",
              "                    ).then(function(){\n",
              "                            \n",
              "var gd = document.getElementById('e0f195b6-8870-472c-af33-6f86b4407c25');\n",
              "var x = new MutationObserver(function (mutations, observer) {{\n",
              "        var display = window.getComputedStyle(gd).display;\n",
              "        if (!display || display === 'none') {{\n",
              "            console.log([gd, 'removed!']);\n",
              "            Plotly.purge(gd);\n",
              "            observer.disconnect();\n",
              "        }}\n",
              "}});\n",
              "\n",
              "// Listen for the removal of the full notebook cells\n",
              "var notebookContainer = gd.closest('#notebook-container');\n",
              "if (notebookContainer) {{\n",
              "    x.observe(notebookContainer, {childList: true});\n",
              "}}\n",
              "\n",
              "// Listen for the clearing of the current output cell\n",
              "var outputEl = gd.closest('.output');\n",
              "if (outputEl) {{\n",
              "    x.observe(outputEl, {childList: true});\n",
              "}}\n",
              "\n",
              "                        })\n",
              "                };\n",
              "                \n",
              "            </script>\n",
              "        </div>\n",
              "</body>\n",
              "</html>"
            ]
          },
          "metadata": {
            "tags": []
          }
        }
      ]
    },
    {
      "cell_type": "markdown",
      "metadata": {
        "id": "EDkbsPVWNcf6"
      },
      "source": [
        "##Multiple Linear Regression"
      ]
    },
    {
      "cell_type": "markdown",
      "metadata": {
        "id": "Xghpr2oWQFSY"
      },
      "source": [
        "###Checking for Linearity "
      ]
    },
    {
      "cell_type": "markdown",
      "metadata": {
        "id": "MbOh6T0HQOfq"
      },
      "source": [
        "####Baltimore"
      ]
    },
    {
      "cell_type": "code",
      "metadata": {
        "colab": {
          "base_uri": "https://localhost:8080/",
          "height": 300
        },
        "id": "5RO0U2poNeEj",
        "outputId": "1c5fb328-35ad-4879-ba58-985effa97bb9"
      },
      "source": [
        "# scatterplot showing relationship between median income and percentage staying in area\n",
        "\n",
        "plt.scatter(df_AvgIncomeBaltimore[\"Baltimore Median Income\"], df_StayBaltimore[\"Baltimore % Stay\"], color='red')\n",
        "plt.title('Median Income vs. Percentage Stay', fontsize=14)\n",
        "plt.xlabel('Median Income', fontsize=14)\n",
        "plt.ylabel('Percentage Stay', fontsize=14)\n",
        "plt.grid(True)\n",
        "plt.show()"
      ],
      "execution_count": null,
      "outputs": [
        {
          "output_type": "display_data",
          "data": {
            "image/png": "[encoded data removed]",
            "text/plain": [
              "<Figure size 432x288 with 1 Axes>"
            ]
          },
          "metadata": {
            "tags": [],
            "needs_background": "light"
          }
        }
      ]
    },
    {
      "cell_type": "code",
      "metadata": {
        "colab": {
          "base_uri": "https://localhost:8080/",
          "height": 300
        },
        "id": "1GGOExXsQTX0",
        "outputId": "91c1f9e3-c939-41ec-8eeb-0265a2a92b62"
      },
      "source": [
        "# scatterplot showing relationship between median income and income of people staying in commuting zone\n",
        "\n",
        "plt.scatter(df_AvgIncomeBaltimore[\"Baltimore Median Income\"], df_IncomeStayBaltimore[\"Baltimore Income Stayed in Commuting Zone\"], color='red')\n",
        "plt.title('Median Income vs. Income Stayed in Commuting Zone', fontsize=14)\n",
        "plt.xlabel('Median Income', fontsize=14)\n",
        "plt.ylabel('Income Stayed in Commuting Zone', fontsize=14)\n",
        "plt.grid(True)\n",
        "plt.show()"
      ],
      "execution_count": null,
      "outputs": [
        {
          "output_type": "display_data",
          "data": {
            "image/png": "[encoded data removed]",
            "text/plain": [
              "<Figure size 432x288 with 1 Axes>"
            ]
          },
          "metadata": {
            "tags": [],
            "needs_background": "light"
          }
        }
      ]
    },
    {
      "cell_type": "markdown",
      "metadata": {
        "id": "6R5XWJu8Q-TO"
      },
      "source": [
        "####DC"
      ]
    },
    {
      "cell_type": "code",
      "metadata": {
        "colab": {
          "base_uri": "https://localhost:8080/",
          "height": 300
        },
        "id": "gC3yCfsIQq-z",
        "outputId": "7f10b0cb-a78c-4dab-9cd9-dd64fdd4e135"
      },
      "source": [
        "# scatterplot showing relationship between median income and percentage staying in area\n",
        "\n",
        "plt.scatter(df_AvgIncomeDC[\"DC Median Income\"], df_StayDC[\"DC % Stay\"], color='red')\n",
        "plt.title('Median Income vs. Percentage Stay', fontsize=14)\n",
        "plt.xlabel('Median Income', fontsize=14)\n",
        "plt.ylabel('Percentage Stay', fontsize=14)\n",
        "plt.grid(True)\n",
        "plt.show()"
      ],
      "execution_count": null,
      "outputs": [
        {
          "output_type": "display_data",
          "data": {
            "image/png": "[encoded data removed]",
            "text/plain": [
              "<Figure size 432x288 with 1 Axes>"
            ]
          },
          "metadata": {
            "tags": [],
            "needs_background": "light"
          }
        }
      ]
    },
    {
      "cell_type": "code",
      "metadata": {
        "colab": {
          "base_uri": "https://localhost:8080/",
          "height": 300
        },
        "id": "9Nk7yO33RaDU",
        "outputId": "7b265cc8-6e4b-4254-b3a1-dee04327638f"
      },
      "source": [
        "# scatterplot showing relationship between median income and income of people staying in commuting zone\n",
        "\n",
        "plt.scatter(df_AvgIncomeDC[\"DC Median Income\"], df_IncomeStayDC[\"DC Income Stayed in Commuting Zone\"], color='red')\n",
        "plt.title('Median Income vs. Income Stayed in Commuting Zone', fontsize=14)\n",
        "plt.xlabel('Median Income', fontsize=14)\n",
        "plt.ylabel('Income Stayed in Commuting Zone', fontsize=14)\n",
        "plt.grid(True)\n",
        "plt.show()"
      ],
      "execution_count": null,
      "outputs": [
        {
          "output_type": "display_data",
          "data": {
            "image/png": "[encoded data removed]",
            "text/plain": [
              "<Figure size 432x288 with 1 Axes>"
            ]
          },
          "metadata": {
            "tags": [],
            "needs_background": "light"
          }
        }
      ]
    },
    {
      "cell_type": "markdown",
      "metadata": {
        "id": "q8lLaIxZSJw4"
      },
      "source": [
        "###Data Analysis"
      ]
    },
    {
      "cell_type": "markdown",
      "metadata": {
        "id": "H0_2SSl6mdX2"
      },
      "source": [
        "####Baltimore"
      ]
    },
    {
      "cell_type": "code",
      "metadata": {
        "colab": {
          "base_uri": "https://localhost:8080/"
        },
        "id": "5qItWRKakr8t",
        "outputId": "51aa44ba-7547-4746-c9ad-e5b420847be1"
      },
      "source": [
        "# removing any rows with NaN values\n",
        "\n",
        "df_baltimore_merge = df_baltimore_merge.dropna()\n",
        "print(df_baltimore_merge)"
      ],
      "execution_count": null,
      "outputs": [
        {
          "output_type": "stream",
          "text": [
            "     level_0  index  ... Baltimore Median Income Baltimore % Stay\n",
            "0          0    232  ...                 15979.0           0.2277\n",
            "1          1    231  ...                 17213.0           0.1972\n",
            "2          2    230  ...                 17306.0           0.1553\n",
            "3          3    229  ...                 17386.0           0.1584\n",
            "4          4    228  ...                 17650.0           0.2498\n",
            "..       ...    ...  ...                     ...              ...\n",
            "228      228      4  ...                 68340.0           0.1310\n",
            "229      229      3  ...                 68851.0           0.1641\n",
            "230      230      2  ...                 69634.0           0.1041\n",
            "231      231      1  ...                 71859.0           0.0743\n",
            "232      232      0  ...                 75513.0           0.1560\n",
            "\n",
            "[233 rows x 7 columns]\n"
          ],
          "name": "stdout"
        }
      ]
    },
    {
      "cell_type": "code",
      "metadata": {
        "id": "BEX_ZBiWe1SA"
      },
      "source": [
        "# assigning dependent and independent variables\n",
        "\n",
        "X = df_baltimore_merge[[\"Baltimore % Stay\", \"Baltimore Income Stayed in Commuting Zone\"]]\n",
        "Y = df_baltimore_merge[\"Baltimore Median Income\"]"
      ],
      "execution_count": null,
      "outputs": []
    },
    {
      "cell_type": "code",
      "metadata": {
        "colab": {
          "base_uri": "https://localhost:8080/"
        },
        "id": "OvyV7wD8TFQd",
        "outputId": "5682c3a6-6b03-42ed-b582-eec43df0dff7"
      },
      "source": [
        "# multiple linear regression, results shown below\n",
        "regr = linear_model.LinearRegression()\n",
        "regr.fit(X, Y)\n",
        "\n",
        "print('Intercept: \\n', regr.intercept_)\n",
        "print('Coefficients: \\n', regr.coef_)\n",
        "\n",
        "X = sm.add_constant(X)\n",
        " \n",
        "model = sm.OLS(Y, X).fit()\n",
        "predictions = model.predict(X) \n",
        " \n",
        "print_model = model.summary()\n",
        "print(print_model)"
      ],
      "execution_count": null,
      "outputs": [
        {
          "output_type": "stream",
          "text": [
            "Intercept: \n",
            " 2280.6815777265438\n",
            "Coefficients: \n",
            " [-2.47056430e+04  1.13241585e+00]\n",
            "                               OLS Regression Results                              \n",
            "===================================================================================\n",
            "Dep. Variable:     Baltimore Median Income   R-squared:                       0.960\n",
            "Model:                                 OLS   Adj. R-squared:                  0.959\n",
            "Method:                      Least Squares   F-statistic:                     2735.\n",
            "Date:                     Thu, 17 Dec 2020   Prob (F-statistic):          4.62e-161\n",
            "Time:                             02:51:33   Log-Likelihood:                -2147.2\n",
            "No. Observations:                      233   AIC:                             4300.\n",
            "Df Residuals:                          230   BIC:                             4311.\n",
            "Df Model:                                2                                         \n",
            "Covariance Type:                 nonrobust                                         \n",
            "=============================================================================================================\n",
            "                                                coef    std err          t      P>|t|      [0.025      0.975]\n",
            "-------------------------------------------------------------------------------------------------------------\n",
            "const                                      2280.6816    977.235      2.334      0.020     355.204    4206.160\n",
            "Baltimore % Stay                          -2.471e+04   3400.382     -7.266      0.000   -3.14e+04    -1.8e+04\n",
            "Baltimore Income Stayed in Commuting Zone     1.1324      0.016     69.013      0.000       1.100       1.165\n",
            "==============================================================================\n",
            "Omnibus:                      129.595   Durbin-Watson:                   1.895\n",
            "Prob(Omnibus):                  0.000   Jarque-Bera (JB):             1063.900\n",
            "Skew:                           2.041   Prob(JB):                    9.49e-232\n",
            "Kurtosis:                      12.640   Cond. No.                     6.90e+05\n",
            "==============================================================================\n",
            "\n",
            "Warnings:\n",
            "[1] Standard Errors assume that the covariance matrix of the errors is correctly specified.\n",
            "[2] The condition number is large, 6.9e+05. This might indicate that there are\n",
            "strong multicollinearity or other numerical problems.\n"
          ],
          "name": "stdout"
        }
      ]
    },
    {
      "cell_type": "markdown",
      "metadata": {
        "id": "F34dWzQvmgqy"
      },
      "source": [
        "####DC"
      ]
    },
    {
      "cell_type": "code",
      "metadata": {
        "colab": {
          "base_uri": "https://localhost:8080/"
        },
        "id": "Vcln0CZ9mhpE",
        "outputId": "41812f8f-e11b-495b-ea64-58d863b0ae1c"
      },
      "source": [
        "# removing any rows with NaN values\n",
        "\n",
        "df_dc_merge = df_dc_merge.dropna()\n",
        "print(df_dc_merge)"
      ],
      "execution_count": null,
      "outputs": [
        {
          "output_type": "stream",
          "text": [
            "           tract  ... DC % Stay\n",
            "175  11001007200  ...    0.2008\n",
            "174  11001004701  ...    0.2669\n",
            "173  11001009802  ...    0.1601\n",
            "172  11001007401  ...    0.2079\n",
            "171  11001004702  ...    0.3761\n",
            "..           ...  ...       ...\n",
            "4    11001000400  ...    0.1853\n",
            "3    11001000600  ...    0.1220\n",
            "2    11001001402  ...    0.0689\n",
            "1    11001000801  ...    0.0951\n",
            "0    11001000901  ...    0.1190\n",
            "\n",
            "[175 rows x 5 columns]\n"
          ],
          "name": "stdout"
        }
      ]
    },
    {
      "cell_type": "code",
      "metadata": {
        "id": "dIjcEwlUmnwt"
      },
      "source": [
        "# assigning dependent and independent variables\n",
        "\n",
        "X = df_dc_merge[[\"DC % Stay\", \"DC Income Stayed in Commuting Zone\"]]\n",
        "Y = df_dc_merge[\"DC Median Income\"]"
      ],
      "execution_count": null,
      "outputs": []
    },
    {
      "cell_type": "code",
      "metadata": {
        "colab": {
          "base_uri": "https://localhost:8080/"
        },
        "id": "rgqVaWqXms0W",
        "outputId": "d77e7070-aded-4d1a-c341-cba271267a4e"
      },
      "source": [
        "# multiple linear regression, results shown below\n",
        "regr = linear_model.LinearRegression()\n",
        "regr.fit(X, Y)\n",
        "\n",
        "print('Intercept: \\n', regr.intercept_)\n",
        "print('Coefficients: \\n', regr.coef_)\n",
        "\n",
        "X = sm.add_constant(X)\n",
        " \n",
        "model = sm.OLS(Y, X).fit()\n",
        "predictions = model.predict(X) \n",
        " \n",
        "print_model = model.summary()\n",
        "print(print_model)"
      ],
      "execution_count": null,
      "outputs": [
        {
          "output_type": "stream",
          "text": [
            "Intercept: \n",
            " -455.36375807165314\n",
            "Coefficients: \n",
            " [-1.08611600e+04  1.09774875e+00]\n",
            "                            OLS Regression Results                            \n",
            "==============================================================================\n",
            "Dep. Variable:       DC Median Income   R-squared:                       0.961\n",
            "Model:                            OLS   Adj. R-squared:                  0.961\n",
            "Method:                 Least Squares   F-statistic:                     2124.\n",
            "Date:                Thu, 17 Dec 2020   Prob (F-statistic):          5.67e-122\n",
            "Time:                        02:51:37   Log-Likelihood:                -1636.2\n",
            "No. Observations:                 175   AIC:                             3278.\n",
            "Df Residuals:                     172   BIC:                             3288.\n",
            "Df Model:                           2                                         \n",
            "Covariance Type:            nonrobust                                         \n",
            "======================================================================================================\n",
            "                                         coef    std err          t      P>|t|      [0.025      0.975]\n",
            "------------------------------------------------------------------------------------------------------\n",
            "const                               -455.3638   1415.822     -0.322      0.748   -3249.987    2339.259\n",
            "DC % Stay                          -1.086e+04   3912.104     -2.776      0.006   -1.86e+04   -3139.244\n",
            "DC Income Stayed in Commuting Zone     1.0977      0.021     52.540      0.000       1.057       1.139\n",
            "==============================================================================\n",
            "Omnibus:                       14.249   Durbin-Watson:                   1.779\n",
            "Prob(Omnibus):                  0.001   Jarque-Bera (JB):               38.009\n",
            "Skew:                           0.192   Prob(JB):                     5.58e-09\n",
            "Kurtosis:                       5.251   Cond. No.                     7.15e+05\n",
            "==============================================================================\n",
            "\n",
            "Warnings:\n",
            "[1] Standard Errors assume that the covariance matrix of the errors is correctly specified.\n",
            "[2] The condition number is large, 7.15e+05. This might indicate that there are\n",
            "strong multicollinearity or other numerical problems.\n"
          ],
          "name": "stdout"
        }
      ]
    }
  ]
}